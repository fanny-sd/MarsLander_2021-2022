{
 "cells": [
  {
   "cell_type": "markdown",
   "id": "6f43c118-a17b-4cbe-a110-8ee6dfcd7c3e",
   "metadata": {},
   "source": [
    "#### Code with new equations of motion"
   ]
  },
  {
   "cell_type": "markdown",
   "id": "e23c7342-fd13-4062-bf53-96b81bc46a8c",
   "metadata": {},
   "source": [
    " - still need power variable"
   ]
  },
  {
   "cell_type": "code",
   "execution_count": null,
   "id": "d8ad6804-0e18-4267-9b22-eee272912159",
   "metadata": {},
   "outputs": [],
   "source": [
    "g = 3.711  # m/s^2, gravity on Mars\n",
    "m = 1000  #kg , Mass of Lander\n",
    "\n",
    "def simulate(X0, V0, land, landing_site, \n",
    "             fuel=200, dt=0.1, Nstep=1000, \n",
    "             autopilot=None, print_interval=100, parameters=None):\n",
    "    \n",
    "    n = len(X0)       # number of degrees of freedom (2 here)\n",
    "    X = X0.copy()     # current position\n",
    "    V = V0.copy()     # current velocity\n",
    "    Xs = np.zeros((Nstep, n)) # position history (trajectory) \n",
    "    Vs = np.zeros((Nstep, n)) # velocity history\n",
    "    thrust = np.zeros((Nstep, n)) # thrust history\n",
    "    success = False\n",
    "    fuel_warning_printed = False\n",
    "    rotate = 0           # degrees, initial angle\n",
    "    power = 0            # m/s^2, initial thrust power    \n",
    "    \n",
    "    for i in range(Nstep):\n",
    "        Xs[i, :] = X     # Store positions\n",
    "        Vs[i, :] = V     # Store velocities\n",
    "        \n",
    "        if autopilot is not None:\n",
    "            # call user-supplied function to set `rotate` and `power`\n",
    "            rotate, power = autopilot(i, X, V, fuel, rotate, power, parameters)\n",
    "            assert abs(rotate) <= 90\n",
    "            assert 0 <= power <= 4000\n",
    "        \n",
    "            rotate_rad = rotate * np.pi / 180.0 # degrees to radians\n",
    "            ### CHANGE HERE ??\n",
    "            thrust[i, :] = power * np.array([np.sin(rotate_rad), \n",
    "                                             np.cos(rotate_rad)])\n",
    "            if fuel <= 0: \n",
    "                if not fuel_warning_printed:\n",
    "                    print(\"Fuel empty! Setting thrust to zero\")\n",
    "                    fuel_warning_printed = True\n",
    "                thrust[i, :] = 0\n",
    "            else:\n",
    "                fuel -= power*dt #change with thrust + tsfc \n",
    "        \n",
    "        ### AND CHANGE HERE\n",
    "        A = np.array([0, -g]) + thrust[i, :]/ m # acceleration  \n",
    "        # g and not W cause W/m = g\n",
    "        \n",
    "        #OLD A = np.array([0, -g]) + thrust[i, :] # acceleration \n",
    "        V += A * dt                          # update velocities\n",
    "        X += V * dt                          # update positions\n",
    "        \n",
    "        if i % print_interval == 0: \n",
    "            print(f\"i={i:03d} X=[{X[0]:8.3f} {X[1]:8.3f}] V=[{V[0]:8.3f} {V[1]:8.3f}]\"\n",
    "                  f\" thrust=[{thrust[i, 0]:8.3f} {thrust[i, 1]:8.3f}] fuel={fuel:8.3f}\") #format of the lines (python f')"
   ]
  },
  {
   "cell_type": "code",
   "execution_count": null,
   "id": "02c8934b-7feb-41fb-be65-76699f968149",
   "metadata": {},
   "outputs": [],
   "source": [
    "# ALSO CHANGE POWER HERE !!\n",
    "\n",
    "def proportional_autopilot(i, X, V, fuel, rotate, power,parameters):\n",
    "    K_h,K_p = parameters\n",
    "    c = 10.0 # target landing speed, m/s\n",
    "    #K_h = 0.01                            #K_H HERE\n",
    "    #K_p = 0.2                              #K_P HERE\n",
    "    h = height(land, X)\n",
    "    e = - (c + K_h*h + V[1])          \n",
    "    Pout = K_p*e                     \n",
    "    power = min(max(Pout, 0.0), 4000)\n",
    "    if i % 100 == 0:\n",
    "        print(f'e={e:8.3f} Pout={Pout:8.3f} power={power:8.3f}')     \n",
    "    return (rotate, power)"
   ]
  }
 ],
 "metadata": {
  "kernelspec": {
   "display_name": "Python 3",
   "language": "python",
   "name": "python3"
  },
  "language_info": {
   "codemirror_mode": {
    "name": "ipython",
    "version": 3
   },
   "file_extension": ".py",
   "mimetype": "text/x-python",
   "name": "python",
   "nbconvert_exporter": "python",
   "pygments_lexer": "ipython3",
   "version": "3.8.8"
  }
 },
 "nbformat": 4,
 "nbformat_minor": 5
}
