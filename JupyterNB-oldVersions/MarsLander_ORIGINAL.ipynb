{
 "cells": [
  {
   "cell_type": "code",
   "execution_count": 1,
   "metadata": {
    "nbgrader": {
     "grade": false,
     "grade_id": "cell-9b76470e7dc3a34c",
     "locked": true,
     "schema_version": 3,
     "solution": false
    }
   },
   "outputs": [],
   "source": [
    "import numpy as np\n",
    "import matplotlib.pyplot as plt\n",
    "\n",
    "from numpy.random import randint\n",
    "from numpy.linalg import norm\n",
    "\n",
    "from ipywidgets import interactive #what is ipywidgets - slider\n",
    "\n",
    "from matplotlib import rcParams    #what is rcParams"
   ]
  },
  {
   "cell_type": "code",
   "execution_count": 2,
   "metadata": {},
   "outputs": [],
   "source": [
    "rcParams['figure.figsize'] = (10, 8)"
   ]
  },
  {
   "cell_type": "markdown",
   "metadata": {
    "nbgrader": {
     "grade": false,
     "grade_id": "cell-caae5ad78e3e1899",
     "locked": true,
     "schema_version": 3,
     "solution": false
    }
   },
   "source": [
    "## Mars Lander Demo\n",
    "\n",
    "The goal for this assigment is to safely land the \"Mars Lander\" shuttle. Mars Lander is guided by a program, and right now the failure rate for landing on the NASA simulator is unacceptable.\n",
    "\n",
    "The simulator puts Mars Lander on a limited zone of Mars sky. The zone is 7000m wide and 3000m high.\n",
    "\n",
    "There is a unique area of flat ground on the surface of Mars, which is at least 1000 meters wide. Every second, depending on the current flight parameters (location, speed, fuel ...), your program must provide the new desired tilt angle and thrust power of Mars Lander:\n",
    "\n",
    "<img src=\"https://www.codingame.com/fileservlet?id=2635325710601\">\n",
    "\n",
    "Angle goes from -90 degrees to 90 degrees. Thrust power goes from 0 to 4.\n",
    "\n",
    "<img src=\"https://www.codingame.com/fileservlet?id=957023678862\" width=\"300px\">\n",
    "\n",
    "We will simulate a free fall without atmosphere. Gravity on Mars is 3.711 m/$^2$. For a thrust power of $X$, a force equivalent to $X$ m/s$2$ is generated and $X$ litres of fuel are consumed per second. As such, a thrust power of 4 in an almost vertical direction is needed to compensate for the gravity on Mars.\n",
    "\n",
    "For a landing to be successful, the ship must:\n",
    "- land on flat ground\n",
    "- land in a vertical position (tilt angle = 0°)\n",
    "- vertical speed must be limited (<40m/s in absolute value)\n",
    "- horizontal speed must be limited (<20m/s in absolute value)\n",
    "\n",
    "## Initialization\n",
    "\n",
    "The function `mars_surface()` returns an array of size `(surfaceN, 2)` containing the points used to draw the surface of Mars and an integer `landing_site` giving the index of the row in this array containing the left-hand end of the flat landing site. \n",
    "\n",
    "Each row is a pair of integers `landX`,`landY` providing the coordinates of a ground point. By linking all the points together in a sequential fashion, you form the surface of Mars which is composed of several segments. For the first point, `landX = 0` and for the last point, `landX = 6999`"
   ]
  },
  {
   "cell_type": "code",
   "execution_count": 3,
   "metadata": {
    "nbgrader": {
     "grade": false,
     "grade_id": "cell-3884250dd1133146",
     "locked": true,
     "schema_version": 3,
     "solution": false
    }
   },
   "outputs": [],
   "source": [
    "def mars_surface():\n",
    "    surfaceN = randint(5, 15)\n",
    "    land = np.zeros((surfaceN, 2), dtype=int)\n",
    "    \n",
    "    # first ensure there's a flat landing site at least 1000m long\n",
    "    landing_site = randint(1, surfaceN-1)\n",
    "    land[landing_site, 0] = randint(2000, 5000)\n",
    "    land[landing_site+1, 0] = min(land[landing_site, 0] + randint(1000, 2000), 6999)\n",
    "    land[landing_site+1, 1] = land[landing_site, 1] = randint(1, 1500)\n",
    "    \n",
    "    # fill in the rest of the terrain\n",
    "    for i in range(landing_site):\n",
    "        land[i, 0] = (land[landing_site, 0] / landing_site) * i\n",
    "        land[i, 1] = randint(0, 1500)\n",
    "    \n",
    "    for i in range(landing_site + 2, surfaceN):\n",
    "        land[i, 0] = (land[landing_site + 1, 0] + \n",
    "                      (7000 - land[landing_site + 1, 0]) / len(land[landing_site + 2:]) * \n",
    "                      (i - (landing_site + 1)))\n",
    "        land[i, 1] = randint(0, 1500)\n",
    "    \n",
    "    # impose boundary conditions\n",
    "    land[0, 0] = 0\n",
    "    land[-1, 0] = 6999\n",
    "\n",
    "    return land, landing_site\n",
    "\n",
    "def plot_surface(land, landing_site):\n",
    "    fig, ax = plt.subplots()\n",
    "    ax.plot(land[:landing_site+1, 0], land[:landing_site+1, 1], 'k-')\n",
    "    ax.plot(land[landing_site+1:, 0], land[landing_site+1:, 1], 'k-')\n",
    "    ax.plot([land[landing_site, 0], land[landing_site+1, 0]], \n",
    "             [land[landing_site, 1], land[landing_site+1, 1]], 'k--')\n",
    "    ax.set_xlim(0, 7000)\n",
    "    ax.set_ylim(0, 3000)\n",
    "    return ax\n",
    "\n",
    "def plot_lander(land, landing_site, X, thrust=None, animate=False, step=10):\n",
    "    if animate:\n",
    "        def plot_frame(n=len(X)-1):\n",
    "            ax = plot_surface(land, landing_site)\n",
    "            ax.plot(X[:n, 0], X[:n, 1], 'b--')\n",
    "            ax.plot(X[n, 0], X[n, 1], 'b^', ms=20)\n",
    "            if thrust is not None:\n",
    "                ax.plot([X[n, 0], X[n, 0] - 100*thrust[n, 0]],\n",
    "                        [X[n, 1] - 100., X[n, 1] - 100. - 100*thrust[n, 1]], \n",
    "                       'r-', lw=10)\n",
    "        return interactive(plot_frame, n=(0, len(X), step)) #slider\n",
    "    else:\n",
    "        ax = plot_surface(land, landing_site) \n",
    "        ax.plot(X[:, 0], X[:, 1], 'b--')\n",
    "        ax.plot(X[-1, 0], X[-1, 1], 'b^')\n",
    "        return ax"
   ]
  },
  {
   "cell_type": "markdown",
   "metadata": {},
   "source": [
    "The `plot_surface()` function provided can be used to visualise the terrain. The flat landing site is shown with a dashed line. Try it out as follows:"
   ]
  },
  {
   "cell_type": "code",
   "execution_count": 4,
   "metadata": {},
   "outputs": [
    {
     "data": {
      "image/png": "[encoded data removed]",
      "text/plain": [
       "<Figure size 720x576 with 1 Axes>"
      ]
     },
     "metadata": {
      "needs_background": "light"
     },
     "output_type": "display_data"
    }
   ],
   "source": [
    "np.random.seed(20) # seed random number generator for reproducible results\n",
    "land, landing_site = mars_surface()\n",
    "plot_surface(land, landing_site);"
   ]
  },
  {
   "cell_type": "markdown",
   "metadata": {},
   "source": [
    "To simulate the lander we need to be able to tell whether a given point `X = [x, y]` is above or below this surface."
   ]
  },
  {
   "cell_type": "code",
   "execution_count": 5,
   "metadata": {
    "nbgrader": {
     "grade": false,
     "grade_id": "cell-3001fc998934e179",
     "locked": true,
     "schema_version": 3,
     "solution": false
    }
   },
   "outputs": [],
   "source": [
    "def interpolate_surface(land, x):\n",
    "    i,  = np.argwhere(land[:, 0] < x)[-1] # segment containing x is [i, i+1]\n",
    "    m = (land[i+1, 1] - land[i, 1])/(land[i+1, 0] - land[i, 0]) # gradient\n",
    "    x1, y1 = land[i, :] # point on line with eqn. y - y1 = m(x - x1) \n",
    "    return m*(x - x1) + y1"
   ]
  },
  {
   "cell_type": "markdown",
   "metadata": {
    "nbgrader": {
     "grade": false,
     "grade_id": "cell-fb91d13bc0029e67",
     "locked": true,
     "schema_version": 3,
     "solution": false
    }
   },
   "source": [
    "**Question 1. (10 marks)** Look at the `interpolate_surface()` function defined above. What do you think it does? Write a short description of how it works, suitable for inclusion as a comment in the code."
   ]
  },
  {
   "cell_type": "markdown",
   "metadata": {},
   "source": [
    "### Answer: finds y coordinate that intercepts with Mars's land at the specified point x"
   ]
  },
  {
   "cell_type": "code",
   "execution_count": 6,
   "metadata": {
    "nbgrader": {
     "grade": false,
     "grade_id": "cell-3001fc998934e179",
     "locked": true,
     "schema_version": 3,
     "solution": false
    }
   },
   "outputs": [
    {
     "data": {
      "text/plain": [
       "[<matplotlib.lines.Line2D at 0x7fe0ed2a5b20>]"
      ]
     },
     "execution_count": 6,
     "metadata": {},
     "output_type": "execute_result"
    },
    {
     "data": {
      "image/png": "[encoded data removed]",
      "text/plain": [
       "<Figure size 720x576 with 1 Axes>"
      ]
     },
     "metadata": {
      "needs_background": "light"
     },
     "output_type": "display_data"
    }
   ],
   "source": [
    "x = 500 # try varying x and testing if function works as expected\n",
    "y = interpolate_surface(land, x)\n",
    "plot_surface(land, landing_site)\n",
    "plt.plot(x, y, 'bo')"
   ]
  },
  {
   "cell_type": "markdown",
   "metadata": {
    "nbgrader": {
     "grade": false,
     "grade_id": "cell-4454b0cfc6e61f90",
     "locked": true,
     "schema_version": 3,
     "solution": false
    }
   },
   "source": [
    "**Question 2. (10 marks)** Write a function `height(land, X)` which returns the vertical height of the lander above the surface of Mars defined by the array `land` when it has coordinates `X = [x, y]`. You will find your answer to **Q1** and the function `interpolate_surface()` useful.\n",
    "    "
   ]
  },
  {
   "cell_type": "code",
   "execution_count": 7,
   "metadata": {
    "nbgrader": {
     "grade": false,
     "grade_id": "cell-273c9e13ee9d3f92",
     "locked": false,
     "schema_version": 3,
     "solution": true
    }
   },
   "outputs": [],
   "source": [
    "def height(land, X):\n",
    "    return X[1] - interpolate_surface(land, X[0]) #1 in X[1] points to the vertical position y of the lander"
   ]
  },
  {
   "cell_type": "code",
   "execution_count": 8,
   "metadata": {
    "nbgrader": {
     "grade": true,
     "grade_id": "cell-24dfa319d17aec00",
     "locked": true,
     "points": 10,
     "schema_version": 3,
     "solution": false
    }
   },
   "outputs": [],
   "source": [
    "#NOT SURE ABOUT THIS:\n",
    "\n",
    "assert abs(height(land, [1, land[0, 1]])) < 100.0 # height when on surface left edge should be close to zero\n",
    "assert abs(height(land, [6999, land[-1, 1]])) < 100.0 # height when on surface at right edge should be close to zero\n",
    "\n",
    "_land, _landing_site = mars_surface()\n",
    "\n",
    "def _height(_land, X):\n",
    "    return X[1] - interpolate_surface(_land, X[0])\n",
    "\n",
    "points = np.zeros((10, 2))\n",
    "points[:, 0] = randint(0, 7000, size=10)\n",
    "points[:, 1] = randint(0, 3000, size=10)\n",
    "for i in range(10):\n",
    "    assert abs(height(_land, points[i, :]) - _height(_land, points[i, :])) < 1e-6"
   ]
  },
  {
   "cell_type": "markdown",
   "metadata": {
    "nbgrader": {
     "grade": false,
     "grade_id": "cell-b206149110a9dc23",
     "locked": true,
     "schema_version": 3,
     "solution": false
    }
   },
   "source": [
    "## Numerical Solution of the equations of motion\n",
    "\n",
    "You are provided with a function `simulate()` which solves the equations of motion for the Mars lander using the semi-implicit Euler method presented in Lecture 4. It takes the initial position of the lander `X0` (2-element vector for `X` and `Y` coordinates), its initial velocity `V0`, and the array `land` and integer `landing_site` returned by `mars_surface()` as arguments. The horizontal and verticals accelerations of the lander are given by\n",
    "\n",
    "$$\\ddot{x} = P \\cos \\theta$$\n",
    "$$\\ddot{y} = -g + P \\sin \\theta$$\n",
    "\n",
    "where $g$ is the accleration due to gravity and $\\mathbf{t} = (P \\sin \\theta, P \\cos \\theta)$ is the thrust provided by the thruster with power $P$, $0 < P < 4$ at angle $\\theta$, with $-90^\\circ < \\theta < 90^\\circ$.\n",
    "\n",
    "Additional optional arguments can be used to specify the amount of fuel, timestep `dt`, maximum number of steps `T`, whether to enable an autopilot to control the thruster power (not used initially, see below) and how often to print output.\n",
    "\n",
    "Compare this code to the `symplectic_euler()` function given in Lecture 4 - the only differences are in initialisation, autopilot (see below) and error checking, with the core algorithm unchanged."
   ]
  },
  {
   "cell_type": "code",
   "execution_count": 9,
   "metadata": {
    "nbgrader": {
     "grade": false,
     "grade_id": "cell-dfae72388ef16749",
     "locked": true,
     "schema_version": 3,
     "solution": false
    }
   },
   "outputs": [],
   "source": [
    "g = 3.711 # m/s^2, gravity on Mars\n",
    "\n",
    "def simulate(X0, V0, land, landing_site, \n",
    "             fuel=200, dt=0.1, Nstep=1000, \n",
    "             autopilot=None, print_interval=100):\n",
    "    \n",
    "    n = len(X0)       # number of degrees of freedom (2 here)\n",
    "    X = X0.copy()     # current position\n",
    "    V = V0.copy()     # current velocity\n",
    "    Xs = np.zeros((Nstep, n)) # position history (trajectory) \n",
    "    Vs = np.zeros((Nstep, n)) # velocity history\n",
    "    thrust = np.zeros((Nstep, n)) # thrust history\n",
    "    success = False\n",
    "    fuel_warning_printed = False\n",
    "    # test: rotate = np.random.randint(0,90)\n",
    "    rotate = 0           # degrees, initial angle\n",
    "    power = 0            # m/s^2, initial thrust power    \n",
    "    \n",
    "    for i in range(Nstep):\n",
    "        Xs[i, :] = X     # Store positions\n",
    "        Vs[i, :] = V     # Store velocities\n",
    "        \n",
    "        if autopilot is not None:\n",
    "            # call user-supplied function to set `rotate` and `power`\n",
    "            rotate, power = autopilot(i, X, V, fuel, rotate, power)\n",
    "            assert abs(rotate) <= 90\n",
    "            assert 0 <= power <= 4\n",
    "        \n",
    "            rotate_rad = rotate * np.pi / 180.0 # degrees to radians\n",
    "            thrust[i, :] = power * np.array([np.sin(rotate_rad), \n",
    "                                             np.cos(rotate_rad)])\n",
    "            if fuel <= 0: \n",
    "                if not fuel_warning_printed:\n",
    "                    print(\"Fuel empty! Setting thrust to zero\")\n",
    "                    fuel_warning_printed = True\n",
    "                thrust[i, :] = 0\n",
    "            else:\n",
    "                fuel -= power*dt\n",
    "        \n",
    "        A = np.array([0, -g]) + thrust[i, :] # acceleration\n",
    "        V += A * dt                          # update velocities\n",
    "        X += V * dt                          # update positions\n",
    "        \n",
    "        if i % print_interval == 0: \n",
    "            print(f\"i={i:03d} X=[{X[0]:8.3f} {X[1]:8.3f}] V=[{V[0]:8.3f} {V[1]:8.3f}]\"\n",
    "                  f\" thrust=[{thrust[i, 0]:8.3f} {thrust[i, 1]:8.3f}] fuel={fuel:8.3f}\") #format of the lines (python f')\n",
    "        \n",
    "        # check for safe or crash landing\n",
    "        if X[1] < interpolate_surface(land, X[0]):\n",
    "            if not (land[landing_site, 0] <= X[0] and X[0] <= land[landing_site + 1, 0]):\n",
    "                print(\"crash! did jot land on flat ground!\")\n",
    "            elif rotate != 0:\n",
    "                print(\"crash! did not land in a vertical position (tilt angle = 0 degrees)\")\n",
    "            elif abs(V[1]) >= 40:\n",
    "                print(\"crash! vertical speed must be limited (<40m/s in absolute value), got \", abs(V[1]))\n",
    "            elif abs(V[0]) >= 20:\n",
    "                print(\"crash! horizontal speed must be limited (<20m/s in absolute value), got \", abs(V[0]))\n",
    "            else:\n",
    "                print(\"safe landing - well done!\")\n",
    "                success = True\n",
    "            Nstep = i\n",
    "            break\n",
    "    \n",
    "    return Xs[:Nstep,:], Vs[:Nstep,:], thrust[:Nstep,:], success   #????"
   ]
  },
  {
   "cell_type": "markdown",
   "metadata": {
    "nbgrader": {
     "grade": false,
     "grade_id": "cell-f38d7aac7f88d940",
     "locked": true,
     "schema_version": 3,
     "solution": false
    }
   },
   "source": [
    "Let's try it out for a simplified case where the lander starts directly above the landing site and the thruster is not used:"
   ]
  },
  {
   "cell_type": "code",
   "execution_count": 10,
   "metadata": {},
   "outputs": [
    {
     "name": "stdout",
     "output_type": "stream",
     "text": [
      "i=000 X=[2882.000 2999.963] V=[   0.000   -0.371] thrust=[   0.000    0.000] fuel= 200.000\n",
      "i=100 X=[2882.000 2808.846] V=[   0.000  -37.481] thrust=[   0.000    0.000] fuel= 200.000\n",
      "i=200 X=[2882.000 2246.630] V=[   0.000  -74.591] thrust=[   0.000    0.000] fuel= 200.000\n",
      "i=300 X=[2882.000 1313.313] V=[   0.000 -111.701] thrust=[   0.000    0.000] fuel= 200.000\n",
      "crash! vertical speed must be limited (<40m/s in absolute value), got  123.94739999999956\n"
     ]
    },
    {
     "data": {
      "application/vnd.jupyter.widget-view+json": {
       "model_id": "acdd2040ddae455d98a6ca1e12fcef49",
       "version_major": 2,
       "version_minor": 0
      },
      "text/plain": [
       "interactive(children=(IntSlider(value=332, description='n', max=333, step=10), Output()), _dom_classes=('widge…"
      ]
     },
     "metadata": {},
     "output_type": "display_data"
    }
   ],
   "source": [
    "\n",
    "X0 = [(land[landing_site+1, 0] + land[landing_site, 0]) // 2, 3000]\n",
    "V0 = [0.0, 0.0]\n",
    "Xs, Vs, thrust, success = simulate(X0, V0, land, landing_site)\n",
    "plot_lander(land, landing_site, Xs, thrust, animate=True, step=10)"
   ]
  },
  {
   "cell_type": "markdown",
   "metadata": {},
   "source": [
    "We get a crash landing as the vertical speed exceeds the maximum acceptable value of 40 m/s."
   ]
  },
  {
   "cell_type": "markdown",
   "metadata": {
    "nbgrader": {
     "grade": false,
     "grade_id": "cell-d5d6e1b768d66f54",
     "locked": true,
     "schema_version": 3,
     "solution": false
    }
   },
   "source": [
    "**Question 3. (20 marks)** Calculate the potential energy and kinetic energies of the lander during this trajectory via the expressions\n",
    "\n",
    "$$V = mgh$$\n",
    "$$T = \\frac 12 mv^2$$\n",
    "$$E = T + V$$\n",
    "\n",
    "where  $V$, $T$ and $E$ denote the potential, kinetic and total energies respectively, and $m=100$ kg is the mass of the lander, $h$ is its height and $v$ is is speed and $g$ is the acceleration due to gravity (3.711 m/s$^2$ on Mars),\n",
    "\n",
    "Adjust the timestep `dt` passed to `simulate()` to ensure there is less than a 0.1% drift in the total energy over 1 second of simulated time, i.e. $\\Delta E/E < 10^{-3}$ . You may find it helpful to plot a graph of the relative error in `E` as a function of time. \n",
    "\n",
    "To pass the tests you must store the time in an array named `t` and the total energy in an array named `E`. \n",
    "\n",
    "Here's some skeleton code to get you started:\n",
    "\n",
    "```julia\n",
    "m = 100. # mass of lander in kg\n",
    "dt = 1.0 # timestep, you'll need to adjust this\n",
    "Nstep = Int(1.0/dt)+1 # number of steps required for 1 second of simulated time\n",
    "\n",
    "# run the simulation\n",
    "Xs, Vs, thrust, success = simulate(X0, V0, land, landing_site, dt=dt, Nstep=Nstep)\n",
    "\n",
    "t = ...\n",
    "V = ...\n",
    "T = ...\n",
    "E = ...\n",
    "```"
   ]
  },
  {
   "cell_type": "code",
   "execution_count": 12,
   "metadata": {
    "nbgrader": {
     "grade": false,
     "grade_id": "cell-c12969e502be939b",
     "locked": false,
     "schema_version": 3,
     "solution": true
    }
   },
   "outputs": [
    {
     "name": "stdout",
     "output_type": "stream",
     "text": [
      "i=000 X=[2882.000 2999.963] V=[   0.000   -0.371] thrust=[   0.000    0.000] fuel= 200.000\n"
     ]
    },
    {
     "data": {
      "text/plain": [
       "<matplotlib.legend.Legend at 0x7fdaaf3ed970>"
      ]
     },
     "execution_count": 12,
     "metadata": {},
     "output_type": "execute_result"
    },
    {
     "data": {
      "image/png": "[encoded data removed]",
      "text/plain": [
       "<Figure size 720x576 with 1 Axes>"
      ]
     },
     "metadata": {
      "needs_background": "light"
     },
     "output_type": "display_data"
    }
   ],
   "source": [
    "m = 100. # mass of lander in kg\n",
    "dt = 0.1\n",
    "Nstep = int((1.0 / dt) + 1) # number of steps required for 1 second of simulated time\n",
    "Xs, Vs, thrust, success = simulate(X0, V0, land, landing_site, dt=dt, Nstep=Nstep)\n",
    "\n",
    "t = np.array([dt*i for i in range(Nstep) ])\n",
    "V = np.array([ m*g*Xs[i, 1] for i in range(Nstep) ])\n",
    "T = np.array([ 0.5*m*norm(Vs[i, :])**2 for i in range(Nstep) ])\n",
    "E = T + V\n",
    "\n",
    "fig, ax = plt.subplots()\n",
    "ax.plot(t, abs(E - E[0])/E[0], label=\"Total energy drift\")\n",
    "ax.set_xlabel('Time / s')\n",
    "ax.set_ylabel('Energy drift')\n",
    "ax.legend()"
   ]
  },
  {
   "cell_type": "code",
   "execution_count": 27,
   "metadata": {
    "nbgrader": {
     "grade": true,
     "grade_id": "cell-cecfe41a7cacfeaa",
     "locked": true,
     "points": 20,
     "schema_version": 3,
     "solution": false
    }
   },
   "outputs": [],
   "source": [
    "assert t[0] == 0.0\n",
    "assert t[-1] >= 1.0\n",
    "assert len(t) == len(E) == Nstep\n",
    "assert abs(E[-1] - E[0])/E[0] < 1e-3"
   ]
  },
  {
   "cell_type": "markdown",
   "metadata": {
    "nbgrader": {
     "grade": false,
     "grade_id": "cell-1023f852fab0d1c2",
     "locked": true,
     "schema_version": 3,
     "solution": false
    }
   },
   "source": [
    "## Designing an autopilot to control the lander\n",
    "\n",
    "To control the lander, you need define a function `autopilot()` which accepts 5 arguments: \n",
    "\n",
    "- `i` is an integer giving step count - e.g. useful for printing debugging inforation every 100 steps.\n",
    "- `X` is a 2D vector containing the current coordinates of Mars Lander (in meters).\n",
    "- `V` is 2D vector containing the horizontal and vertical speed of Mars Lander (in m/s). These can be negative depending on the direction of the lander.\n",
    "- `fuel` is the remaining quantity of fuel in litres. When there is no more fuel, the power of thrusters falls to zero.\n",
    "- `rotate` is the angle of rotation of Mars Lander expressed in degrees.\n",
    "- `power` is the thrust power of the landing ship.\n",
    "\n",
    "Your function must return two integers `(rotate, power)`, where\n",
    "\n",
    "- `rotate` is the desired rotation angle for Mars Lander, in degrees. \n",
    "- `power` is the desired thrust power. 0 = off. 4 = maximum power. \n",
    "\n",
    "Here is a template `dummy_autopilot()` which does nothing - note that this will invariably lead to a crash landing!"
   ]
  },
  {
   "cell_type": "code",
   "execution_count": 17,
   "metadata": {},
   "outputs": [],
   "source": [
    "def dummy_autopilot(i, X, V, fuel, rotate, power):\n",
    "    return (rotate, power) # do nothing"
   ]
  },
  {
   "cell_type": "markdown",
   "metadata": {
    "nbgrader": {
     "grade": false,
     "grade_id": "cell-36b8bb92587112f0",
     "locked": true,
     "schema_version": 3,
     "solution": false
    }
   },
   "source": [
    "Pass the `autopilot` function as an extra argument to `simulate()` to turn it on - be sure to use the timestep `dt` that you determined in Q3:"
   ]
  },
  {
   "cell_type": "code",
   "execution_count": 18,
   "metadata": {},
   "outputs": [
    {
     "name": "stdout",
     "output_type": "stream",
     "text": [
      "i=000 X=[2882.000 2999.963] V=[   0.000   -0.371] thrust=[   0.000    0.000] fuel= 200.000\n",
      "i=100 X=[2882.000 2808.846] V=[   0.000  -37.481] thrust=[   0.000    0.000] fuel= 200.000\n",
      "i=200 X=[2882.000 2246.630] V=[   0.000  -74.591] thrust=[   0.000    0.000] fuel= 200.000\n",
      "i=300 X=[2882.000 1313.313] V=[   0.000 -111.701] thrust=[   0.000    0.000] fuel= 200.000\n",
      "crash! did not land in a vertical position (tilt angle = 0 degrees)\n"
     ]
    },
    {
     "data": {
      "application/vnd.jupyter.widget-view+json": {
       "model_id": "626e2d93204540519a6fbb7c20f3eb14",
       "version_major": 2,
       "version_minor": 0
      },
      "text/plain": [
       "interactive(children=(IntSlider(value=332, description='n', max=333, step=10), Output()), _dom_classes=('widge…"
      ]
     },
     "metadata": {},
     "output_type": "display_data"
    }
   ],
   "source": [
    "\n",
    "X0 = [(land[landing_site+1, 0] + land[landing_site, 0]) // 2, 3000]\n",
    "V0 = [0., 0.]\n",
    "Xs, Vs, thrust, success = simulate(X0, V0, land, landing_site, dt=dt, autopilot=dummy_autopilot)\n",
    "plot_lander(land, landing_site, Xs, thrust, animate=True, step=10)"
   ]
  },
  {
   "cell_type": "markdown",
   "metadata": {
    "nbgrader": {
     "grade": false,
     "grade_id": "cell-855aed767c94d298",
     "locked": true,
     "schema_version": 3,
     "solution": false
    }
   },
   "source": [
    "As expected, we still get a crash landing as we have not fired the thruster at all. If you reduce the initial height of the lander you should be able to get a successful landing, but of course this is cheating!\n",
    "\n",
    "You can experiment with writing your own autopilot, or proceed to the next section for some suggestions."
   ]
  },
  {
   "cell_type": "markdown",
   "metadata": {},
   "source": [
    "## Proportional control\n",
    "\n",
    "We would like to design a suitable strategy for the autopilot, whose job is to adjust automatically the lander’s controls (thrust, and later the angle as well) to bring it safely to the surface. There is a powerful engineering discipline, **control theory**, that provides us with the necessary tools to do this. We will take a less-than-totally- rigorous look at a straightforward technique called **proportional control**. You can read more about this on [Wikipedia](https://en.wikipedia.org/wiki/PID_controller) or elsewhere.\n",
    "\n",
    "We want to use the engine’s thrust to control the rate of descent. Suppose our strategy is that the descent rate should decrease linearly as the lander approaches the surface, i.e. with target vertical velocity\n",
    "\n",
    "$$ v_y^\\mathrm{target} = −(c + K_h h) $$\n",
    "\n",
    "where $h$ is the lander’s altitude and $K_h$ is a positive constant. This seems reasonable, since the descent rate should then approach $c$ m/s as the lander touches down. If we set $c = 10$ m/s we should be safely within the 40 m/s limit. We can define an error term\n",
    "\n",
    "$$ e = v_y^\\mathrm{target} - v_y = −(c + K_h h + v_y)$$\n",
    "\n",
    "which is positive if the lander is descending too quickly and negative if the lander is descending too slowly.\n",
    "\n",
    "The instantaneous output of a proportional controller is then\n",
    "\n",
    "$$P_\\mathrm{out} = K_p e$$\n",
    "\n",
    "where $K_p$ is a positive constant known as the controller gain. Ideally, we would use $P_\\mathrm{out}$ to control directly the engine’s throttle, but here we must diverge a little from perfect proportional control theory, since whereas $P_\\mathrm{out}$ might take any real value representing arbitrary forward and reverse thrust, the lander’s engine is only capable of delivering a limited amount of forward thrust corresponding to throttle values in the range 0 to 4.\n",
    "\n",
    "**Question 4. (15 marks for infinite fuel + 20 marks for limited fuel)** Implement this scheme in an autopilot function named `proportional_autopilot()` and experiment with different values of $K_h$ and $K_p$. You will need to resort to trial and error when tuning $K_h$ and $K_p$. Initially, you might find it helpful to give yourself an infinite fuel supply (pass `fuel=Inf` to `simulate()`), though you should eventually manage to find suitable values for $K_h$ that bring the lander safely down with the supplied amount of fuel (`fuel=200`). \n",
    "\n",
    "Here is a skeleton for your function:\n",
    "\n",
    "```python\n",
    "def proportional_autopilot(i, X, V, fuel, rotate, power):\n",
    "    c = 10.0 # target landing speed, m/s\n",
    "    K_h = ...\n",
    "    K_p = ...\n",
    "    power = ... # set the thrust, must be 0 < power < 4\n",
    "    rotate = 0 # rotation angle, -90 < rotate < 90, not needed until bonus question!\n",
    "    return (rotate, power)\n",
    "```"
   ]
  },
  {
   "cell_type": "code",
   "execution_count": 11,
   "metadata": {
    "nbgrader": {
     "grade": false,
     "grade_id": "cell-b4b2b195acf7f9ba",
     "locked": false,
     "schema_version": 3,
     "solution": true
    }
   },
   "outputs": [],
   "source": [
    "def proportional_autopilot(i, X, V, fuel, rotate, power):\n",
    "    c = 10.0 # target landing speed, m/s\n",
    "    K_h = 0.01\n",
    "    K_p = 0.2\n",
    "    h = height(land, X)\n",
    "    e = - (c + K_h*h + V[1])\n",
    "    Pout = K_p*e\n",
    "    power = min(max(Pout, 0.0), 4.0)\n",
    "    if i % 100 == 0:\n",
    "        print(f'e={e:8.3f} Pout={Pout:8.3f} power={power:8.3f}')    \n",
    "    return (rotate, power)"
   ]
  },
  {
   "cell_type": "markdown",
   "metadata": {
    "nbgrader": {
     "grade": false,
     "grade_id": "cell-c0b8f1972c9520c7",
     "locked": true,
     "schema_version": 3,
     "solution": false
    }
   },
   "source": [
    "While testing, you can use the cell below to run the simulation and visualise your trajectory:"
   ]
  },
  {
   "cell_type": "code",
   "execution_count": 12,
   "metadata": {},
   "outputs": [
    {
     "name": "stdout",
     "output_type": "stream",
     "text": [
      "e= -30.750 Pout=  -6.150 power=   0.000\n",
      "i=000 X=[2882.000 2999.963] V=[   0.000   -0.371] thrust=[   0.000    0.000] fuel=     inf\n",
      "e=   6.814 Pout=   1.363 power=   1.363\n",
      "i=100 X=[2882.000 2810.034] V=[   0.000  -35.935] thrust=[   0.000    1.363] fuel=     inf\n",
      "e=  18.845 Pout=   3.769 power=   3.769\n",
      "i=200 X=[2882.000 2393.430] V=[   0.000  -43.567] thrust=[   0.000    3.769] fuel=     inf\n",
      "e=  20.679 Pout=   4.136 power=   4.000\n",
      "i=300 X=[2882.000 1968.487] V=[   0.000  -41.126] thrust=[   0.000    4.000] fuel=     inf\n",
      "e=  21.758 Pout=   4.352 power=   4.000\n",
      "i=400 X=[2882.000 1571.821] V=[   0.000  -38.236] thrust=[   0.000    4.000] fuel=     inf\n",
      "e=  22.549 Pout=   4.510 power=   4.000\n",
      "i=500 X=[2882.000 1204.055] V=[   0.000  -35.346] thrust=[   0.000    4.000] fuel=     inf\n",
      "safe landing - well done!\n"
     ]
    },
    {
     "data": {
      "application/vnd.jupyter.widget-view+json": {
       "model_id": "fab73a2268f1424390acbb6cc8e96707",
       "version_major": 2,
       "version_minor": 0
      },
      "text/plain": [
       "interactive(children=(IntSlider(value=581, description='n', max=582, step=10), Output()), _dom_classes=('widge…"
      ]
     },
     "metadata": {},
     "output_type": "display_data"
    }
   ],
   "source": [
    "X0 = [(land[landing_site+1, 0] + land[landing_site, 0]) // 2, 3000]\n",
    "V0 = [0., 0.]\n",
    "Xs, Vs, thrust, success = simulate(X0, V0, land, landing_site, dt=0.1, Nstep=2000, \n",
    "                                   autopilot=proportional_autopilot, fuel=np.inf)\n",
    "plot_lander(land, landing_site, Xs, thrust, animate=True, step=10)"
   ]
  },
  {
   "cell_type": "markdown",
   "metadata": {
    "nbgrader": {
     "grade": false,
     "grade_id": "cell-399af979e2d3786c",
     "locked": true,
     "schema_version": 3,
     "solution": false
    }
   },
   "source": [
    "You may also find it useful to plot the actual and target speed as a function of height by adapting the code below"
   ]
  },
  {
   "cell_type": "code",
   "execution_count": 32,
   "metadata": {},
   "outputs": [
    {
     "data": {
      "text/plain": [
       "<matplotlib.legend.Legend at 0x7fe7cb6fc4f0>"
      ]
     },
     "execution_count": 32,
     "metadata": {},
     "output_type": "execute_result"
    },
    {
     "data": {
      "image/png": "[encoded data removed]",
      "text/plain": [
       "<Figure size 720x576 with 1 Axes>"
      ]
     },
     "metadata": {
      "needs_background": "light"
     },
     "output_type": "display_data"
    }
   ],
   "source": [
    "c = 30.\n",
    "K_h = 0.01 # fill in your value of K_h here\n",
    "\n",
    "h = np.array([height(land, Xs[i, :]) for i in range(len(Xs))])\n",
    "\n",
    "fig, ax = plt.subplots()\n",
    "ax.plot(-h, Vs[:, 1], label=\"actual speed\")\n",
    "ax.set_xlabel(\"- altitude\")\n",
    "ax.set_ylabel(\"Vertical velocity\")\n",
    "ax.plot(-h, -(c + K_h*h), label=f\"target speed K$_h$={K_h}\")\n",
    "ax.legend()"
   ]
  },
  {
   "cell_type": "markdown",
   "metadata": {},
   "source": [
    "Here are the test cases, first with infinite fuel [15 marks] and then with 200 liters of fuel (a bit harder!) [20 marks]"
   ]
  },
  {
   "cell_type": "code",
   "execution_count": 36,
   "metadata": {
    "nbgrader": {
     "grade": true,
     "grade_id": "cell-1dbaf35a058f38f0",
     "locked": true,
     "points": 15,
     "schema_version": 3,
     "solution": false
    }
   },
   "outputs": [
    {
     "name": "stdout",
     "output_type": "stream",
     "text": [
      "e= -28.690 Pout=  -5.738 power=   0.000\n",
      "i=000 X=[3495.000 2999.963] V=[   0.000   -0.371] thrust=[   0.000    0.000] fuel=     inf\n",
      "e=   8.116 Pout=   1.623 power=   1.623\n",
      "i=100 X=[3495.000 2811.056] V=[   0.000  -35.161] thrust=[   0.000    1.623] fuel=     inf\n",
      "e=  18.947 Pout=   3.789 power=   3.789\n",
      "i=200 X=[3495.000 2409.258] V=[   0.000  -41.764] thrust=[   0.000    3.789] fuel=     inf\n",
      "e=  20.566 Pout=   4.113 power=   4.000\n",
      "i=300 X=[3495.000 2002.621] V=[   0.000  -39.293] thrust=[   0.000    4.000] fuel=     inf\n",
      "e=  21.462 Pout=   4.292 power=   4.000\n",
      "i=400 X=[3495.000 1624.288] V=[   0.000  -36.403] thrust=[   0.000    4.000] fuel=     inf\n",
      "e=  22.070 Pout=   4.414 power=   4.000\n",
      "i=500 X=[3495.000 1274.856] V=[   0.000  -33.513] thrust=[   0.000    4.000] fuel=     inf\n",
      "safe landing - well done!\n"
     ]
    }
   ],
   "source": [
    "# first test with infinite fuel\n",
    "X0 = [(land[landing_site+1, 0] + land[landing_site, 0]) // 2, 3000]\n",
    "V0 = [0., 0., ]\n",
    "Xs, Vs, thrust, success = simulate(X0, V0, land, landing_site, dt=0.1, Nstep=2000, \n",
    "                                   autopilot=proportional_autopilot, fuel=np.inf)\n",
    "assert success"
   ]
  },
  {
   "cell_type": "code",
   "execution_count": 37,
   "metadata": {
    "nbgrader": {
     "grade": true,
     "grade_id": "cell-339ed3b6ecb3be40",
     "locked": true,
     "points": 20,
     "schema_version": 3,
     "solution": false
    }
   },
   "outputs": [
    {
     "name": "stdout",
     "output_type": "stream",
     "text": [
      "e= -28.690 Pout=  -5.738 power=   0.000\n",
      "i=000 X=[3495.000 2999.963] V=[   0.000   -0.371] thrust=[   0.000    0.000] fuel= 200.000\n",
      "e=   8.116 Pout=   1.623 power=   1.623\n",
      "i=100 X=[3495.000 2811.056] V=[   0.000  -35.161] thrust=[   0.000    1.623] fuel= 197.679\n",
      "e=  18.947 Pout=   3.789 power=   3.789\n",
      "i=200 X=[3495.000 2409.258] V=[   0.000  -41.764] thrust=[   0.000    3.789] fuel= 167.173\n",
      "e=  20.566 Pout=   4.113 power=   4.000\n",
      "i=300 X=[3495.000 2002.621] V=[   0.000  -39.293] thrust=[   0.000    4.000] fuel= 127.592\n",
      "e=  21.462 Pout=   4.292 power=   4.000\n",
      "i=400 X=[3495.000 1624.288] V=[   0.000  -36.403] thrust=[   0.000    4.000] fuel=  87.592\n",
      "e=  22.070 Pout=   4.414 power=   4.000\n",
      "i=500 X=[3495.000 1274.856] V=[   0.000  -33.513] thrust=[   0.000    4.000] fuel=  47.592\n",
      "safe landing - well done!\n"
     ]
    }
   ],
   "source": [
    "# now test with fuel=200\n",
    "X0 = [(land[landing_site+1, 0] + land[landing_site, 0]) // 2, 3000]\n",
    "V0 = [0., 0., ]\n",
    "Xs, Vs, thrust, success = simulate(X0, V0, land, landing_site, dt=0.1, Nstep=2000, \n",
    "                                   autopilot=proportional_autopilot, fuel=200)\n",
    "assert success"
   ]
  },
  {
   "cell_type": "markdown",
   "metadata": {
    "nbgrader": {
     "grade": false,
     "grade_id": "cell-335ca7b2bc5c83ad",
     "locked": true,
     "schema_version": 3,
     "solution": false
    }
   },
   "source": [
    "**Question 5. (10 marks)** Write a short paragraph to explain the role of $K_h$: too high and the lander crashes, too low and it runs out of fuel, but why? "
   ]
  },
  {
   "cell_type": "markdown",
   "metadata": {
    "nbgrader": {
     "grade": true,
     "grade_id": "cell-f2358f1622d661ea",
     "locked": false,
     "points": 10,
     "schema_version": 3,
     "solution": true
    }
   },
   "source": [
    "My Answer: determines the descent rate, so too high and the shuttle lands too fast and crashes, too small and the speed is so slow that it runs out of fuel before reaching the surface."
   ]
  },
  {
   "cell_type": "markdown",
   "metadata": {
    "nbgrader": {
     "grade": false,
     "grade_id": "cell-eb312d06a4c6af3d",
     "locked": true,
     "schema_version": 3,
     "solution": false
    }
   },
   "source": [
    "**Question 6. (5 marks for each part)** Adjust your autopilot to work cope with:\n",
    "\n",
    "1. random vertical starting positions between 1500 and 3000m [5 marks]\n",
    "2. random changes in the initial vertical velocity ($-50 < v_y < 50$ m/s) [5 marks]\n",
    "3. different random Martian surfaces. [5 marks]\n",
    "\n",
    "To pass each of the three tests you need to achieve at least an 80% success rate over 20 trials. You should be able to find common values of $K_h$ and $K_p$ that work for all three tests."
   ]
  },
  {
   "cell_type": "code",
   "execution_count": 21,
   "metadata": {
    "nbgrader": {
     "grade": true,
     "grade_id": "cell-0c19a47cf851d26b",
     "locked": true,
     "points": 5,
     "schema_version": 3,
     "solution": false
    },
    "scrolled": true
   },
   "outputs": [
    {
     "name": "stdout",
     "output_type": "stream",
     "text": [
      "X0=[5060, 2138] V0=[0.0, 0.0]\n",
      "e= -20.960 Pout=  -4.192 power=   0.000\n",
      "i=000 X=[5060.000 2137.963] V=[   0.000   -0.371] thrust=[   0.000    0.000] fuel= 200.000\n",
      "e=  13.499 Pout=   2.700 power=   2.700\n",
      "i=100 X=[5068.153 1954.449] V=[   4.973  -32.844] thrust=[   1.975    1.841] fuel= 193.200\n",
      "e=  28.782 Pout=   5.756 power=   4.000\n",
      "i=200 X=[5251.669 1563.364] V=[  32.657  -44.138] thrust=[   2.925    2.728] fuel= 155.347\n",
      "e=  43.512 Pout=   8.702 power=   4.000\n",
      "i=300 X=[5725.974 1072.344] V=[  61.911  -53.968] thrust=[   2.925    2.728] fuel= 115.347\n",
      "crash! did not land in a vertical position (tilt angle = 0 degrees)\n",
      "\n",
      "X0=[5060, 1573] V0=[0.0, 0.0]\n",
      "e= -15.310 Pout=  -3.062 power=   0.000\n",
      "i=000 X=[5060.000 1572.963] V=[   0.000   -0.371] thrust=[   0.000    0.000] fuel= 200.000\n",
      "e=  14.895 Pout=   2.979 power=   2.979\n",
      "i=100 X=[5072.182 1401.342] V=[   5.527  -28.636] thrust=[   1.579    2.526] fuel= 189.570\n",
      "e=  23.196 Pout=   4.639 power=   4.000\n",
      "i=200 X=[5224.678 1083.170] V=[  25.569  -33.673] thrust=[   2.120    3.392] fuel= 151.750\n",
      "crash! did not land in a vertical position (tilt angle = 0 degrees)\n",
      "\n",
      "X0=[5060, 2442] V0=[0.0, 0.0]\n",
      "e= -24.000 Pout=  -4.800 power=   0.000\n",
      "i=000 X=[5060.000 2441.963] V=[   0.000   -0.371] thrust=[   0.000    0.000] fuel= 200.000\n",
      "e=  10.934 Pout=   2.187 power=   2.187\n",
      "i=100 X=[5062.694 2256.623] V=[   1.956  -33.286] thrust=[   0.924    1.982] fuel= 195.371\n",
      "e=  20.828 Pout=   4.166 power=   4.000\n",
      "i=200 X=[5149.334 1880.207] V=[  16.476  -39.258] thrust=[   1.690    3.625] fuel= 161.014\n",
      "e=  25.654 Pout=   5.131 power=   4.000\n",
      "i=300 X=[5399.465 1483.299] V=[  33.381  -40.115] thrust=[   1.690    3.625] fuel= 121.014\n",
      "e=  30.565 Pout=   6.113 power=   4.000\n",
      "i=400 X=[5818.645 1077.815] V=[  50.286  -40.973] thrust=[   1.690    3.625] fuel=  81.014\n",
      "crash! did not land in a vertical position (tilt angle = 0 degrees)\n",
      "\n",
      "X0=[5060, 2863] V0=[0.0, 0.0]\n",
      "e= -28.210 Pout=  -5.642 power=   0.000\n",
      "i=000 X=[5060.000 2862.963] V=[   0.000   -0.371] thrust=[   0.000    0.000] fuel= 200.000\n",
      "e=  10.215 Pout=   2.043 power=   2.043\n",
      "i=100 X=[5062.706 2672.422] V=[   2.807  -36.884] thrust=[   1.998    0.425] fuel= 197.130\n",
      "e=  44.751 Pout=   8.950 power=   4.000\n",
      "i=200 X=[5265.141 2153.234] V=[  39.393  -66.218] thrust=[   3.913    0.832] fuel= 159.727\n",
      "e=  81.592 Pout=  16.318 power=   4.000\n",
      "i=300 X=[5856.652 1345.647] V=[  78.518  -95.011] thrust=[   3.913    0.832] fuel= 119.727\n",
      "crash! did not land in a vertical position (tilt angle = 0 degrees)\n",
      "\n",
      "X0=[5060, 2777] V0=[0.0, 0.0]\n",
      "e= -27.350 Pout=  -5.470 power=   0.000\n",
      "i=000 X=[5060.000 2776.963] V=[   0.000   -0.371] thrust=[   0.000    0.000] fuel= 200.000\n",
      "e=   9.343 Pout=   1.869 power=   1.869\n",
      "i=100 X=[5061.871 2588.422] V=[   1.757  -35.062] thrust=[   1.098    1.512] fuel= 197.010\n",
      "e=  23.053 Pout=   4.611 power=   4.000\n",
      "i=200 X=[5170.832 2176.177] V=[  21.872  -44.487] thrust=[   2.351    3.236] fuel= 162.790\n",
      "e=  32.487 Pout=   6.497 power=   4.000\n",
      "i=300 X=[5508.282 1707.321] V=[  45.383  -49.236] thrust=[   2.351    3.236] fuel= 122.790\n",
      "e=  42.395 Pout=   8.479 power=   4.000\n",
      "i=400 X=[6080.847 1190.972] V=[  68.895  -53.986] thrust=[   2.351    3.236] fuel=  82.790\n",
      "crash! did not land in a vertical position (tilt angle = 0 degrees)\n",
      "\n",
      "X0=[5060, 2108] V0=[0.0, 0.0]\n",
      "e= -20.660 Pout=  -4.132 power=   0.000\n",
      "i=000 X=[5060.000 2107.963] V=[   0.000   -0.371] thrust=[   0.000    0.000] fuel= 200.000\n",
      "e=  16.957 Pout=   3.391 power=   3.391\n",
      "i=100 X=[5072.824 1919.108] V=[   7.969  -36.076] thrust=[   3.340    0.589] fuel= 191.908\n",
      "e=  52.277 Pout=  10.455 power=   4.000\n",
      "i=200 X=[5349.155 1405.616] V=[  47.127  -66.281] thrust=[   3.939    0.695] fuel= 152.146\n",
      "crash! did not land in a vertical position (tilt angle = 0 degrees)\n",
      "\n",
      "X0=[5060, 2592] V0=[0.0, 0.0]\n",
      "e= -25.500 Pout=  -5.100 power=   0.000\n",
      "i=000 X=[5060.000 2591.963] V=[   0.000   -0.371] thrust=[   0.000    0.000] fuel= 200.000\n",
      "e=  10.952 Pout=   2.190 power=   2.190\n",
      "i=100 X=[5063.723 2404.083] V=[   3.044  -34.835] thrust=[   1.653    1.437] fuel= 195.966\n",
      "e=  28.508 Pout=   5.702 power=   4.000\n",
      "i=200 X=[5223.264 1980.553] V=[  30.532  -48.050] thrust=[   3.019    2.624] fuel= 159.544\n",
      "e=  44.718 Pout=   8.944 power=   4.000\n",
      "i=300 X=[5681.037 1445.173] V=[  60.721  -58.917] thrust=[   3.019    2.624] fuel= 119.544\n",
      "crash! did not land in a vertical position (tilt angle = 0 degrees)\n",
      "\n",
      "X0=[5060, 1951] V0=[0.0, 0.0]\n",
      "e= -19.090 Pout=  -3.818 power=   0.000\n",
      "i=000 X=[5060.000 1950.963] V=[   0.000   -0.371] thrust=[   0.000    0.000] fuel= 200.000\n",
      "e=  12.615 Pout=   2.523 power=   2.523\n",
      "i=100 X=[5060.479 1773.573] V=[   0.258  -30.080] thrust=[   0.088    2.521] fuel= 192.594\n",
      "e=  19.211 Pout=   3.842 power=   3.842\n",
      "i=200 X=[5068.687 1446.389] V=[   1.443  -33.275] thrust=[   0.134    3.840] fuel= 158.659\n",
      "e=  20.037 Pout=   4.007 power=   4.000\n",
      "i=300 X=[5090.041 1124.574] V=[   2.823  -30.865] thrust=[   0.140    3.998] fuel= 119.115\n",
      "crash! did not land in a vertical position (tilt angle = 0 degrees)\n",
      "\n",
      "X0=[5060, 1840] V0=[0.0, 0.0]\n",
      "e= -17.980 Pout=  -3.596 power=   0.000\n",
      "i=000 X=[5060.000 1839.963] V=[   0.000   -0.371] thrust=[   0.000    0.000] fuel= 200.000\n",
      "e=  14.358 Pout=   2.872 power=   2.872\n",
      "i=100 X=[5070.558 1661.885] V=[   5.463  -30.735] thrust=[   1.807    2.232] fuel= 191.320\n",
      "e=  25.596 Pout=   5.119 power=   4.000\n",
      "i=200 X=[5240.887 1310.006] V=[  29.328  -38.374] thrust=[   2.517    3.109] fuel= 153.398\n",
      "crash! did not land in a vertical position (tilt angle = 0 degrees)\n",
      "\n",
      "X0=[5060, 2846] V0=[0.0, 0.0]\n",
      "e= -28.040 Pout=  -5.608 power=   0.000\n",
      "i=000 X=[5060.000 2845.963] V=[   0.000   -0.371] thrust=[   0.000    0.000] fuel= 200.000\n",
      "e=  10.649 Pout=   2.130 power=   2.130\n",
      "i=100 X=[5062.917 2655.153] V=[   2.995  -37.166] thrust=[   2.118    0.223] fuel= 196.988\n",
      "e=  49.194 Pout=   9.839 power=   4.000\n",
      "i=200 X=[5273.582 2115.078] V=[  40.594  -70.324] thrust=[   3.978    0.418] fuel= 159.182\n",
      "e=  90.785 Pout=  18.157 power=   4.000\n",
      "i=300 X=[5880.418 1245.543] V=[  80.375 -103.253] thrust=[   3.978    0.418] fuel= 119.182\n",
      "crash! did not land in a vertical position (tilt angle = 0 degrees)\n",
      "\n",
      "X0=[5060, 2004] V0=[0.0, 0.0]\n",
      "e= -19.620 Pout=  -3.924 power=   0.000\n",
      "i=000 X=[5060.000 2003.963] V=[   0.000   -0.371] thrust=[   0.000    0.000] fuel= 200.000\n",
      "e=  15.477 Pout=   3.095 power=   3.095\n",
      "i=100 X=[5072.469 1819.758] V=[   7.166  -33.509] thrust=[   2.707    1.501] fuel= 191.807\n",
      "e=  37.891 Pout=   7.578 power=   4.000\n",
      "i=200 X=[5314.190 1391.529] V=[  41.450  -51.615] thrust=[   3.498    1.939] fuel= 152.608\n",
      "crash! did not land in a vertical position (tilt angle = 0 degrees)\n",
      "\n",
      "X0=[5060, 2700] V0=[0.0, 0.0]\n",
      "e= -26.580 Pout=  -5.316 power=   0.000\n",
      "i=000 X=[5060.000 2699.963] V=[   0.000   -0.371] thrust=[   0.000    0.000] fuel= 200.000\n",
      "e=   9.331 Pout=   1.866 power=   1.866\n",
      "i=100 X=[5060.453 2512.534] V=[   0.396  -34.257] thrust=[   0.227    1.852] fuel= 196.751\n",
      "e=  19.150 Pout=   3.830 power=   3.830\n",
      "i=200 X=[5081.988 2125.706] V=[   4.245  -40.018] thrust=[   0.467    3.801] fuel= 165.167\n",
      "e=  20.755 Pout=   4.151 power=   4.000\n",
      "i=300 X=[5148.750 1736.126] V=[   9.085  -37.708] thrust=[   0.487    3.970] fuel= 125.451\n",
      "e=  21.806 Pout=   4.361 power=   4.000\n",
      "i=400 X=[5264.220 1372.133] V=[  13.960  -35.116] thrust=[   0.487    3.970] fuel=  85.451\n",
      "crash! did not land in a vertical position (tilt angle = 0 degrees)\n",
      "\n",
      "X0=[5060, 1599] V0=[0.0, 0.0]\n",
      "e= -15.570 Pout=  -3.114 power=   0.000\n",
      "i=000 X=[5060.000 1598.963] V=[   0.000   -0.371] thrust=[   0.000    0.000] fuel= 200.000\n",
      "e=  16.660 Pout=   3.332 power=   3.332\n",
      "i=100 X=[5078.659 1422.424] V=[   8.730  -30.661] thrust=[   2.626    2.051] fuel= 188.922\n",
      "e=  33.254 Pout=   6.651 power=   4.000\n",
      "i=200 X=[5320.875 1049.448] V=[  39.800  -43.496] thrust=[   3.152    2.463] fuel= 149.494\n",
      "crash! did not land in a vertical position (tilt angle = 0 degrees)\n",
      "\n",
      "X0=[5060, 2882] V0=[0.0, 0.0]\n",
      "e= -28.400 Pout=  -5.680 power=   0.000\n",
      "i=000 X=[5060.000 2881.963] V=[   0.000   -0.371] thrust=[   0.000    0.000] fuel= 200.000\n",
      "e=  10.353 Pout=   2.071 power=   2.071\n",
      "i=100 X=[5062.658 2691.079] V=[   2.819  -37.234] thrust=[   2.063    0.180] fuel= 197.170\n",
      "e=  49.601 Pout=   9.920 power=   4.000\n",
      "i=200 X=[5270.882 2147.080] V=[  40.372  -71.059] thrust=[   3.985    0.349] fuel= 159.474\n",
      "e=  91.995 Pout=  18.399 power=   4.000\n",
      "i=300 X=[5875.830 1266.689] V=[  80.219 -104.683] thrust=[   3.985    0.349] fuel= 119.474\n",
      "crash! did not land in a vertical position (tilt angle = 0 degrees)\n",
      "\n",
      "X0=[5060, 2362] V0=[0.0, 0.0]\n",
      "e= -23.200 Pout=  -4.640 power=   0.000\n",
      "i=000 X=[5060.000 2361.963] V=[   0.000   -0.371] thrust=[   0.000    0.000] fuel= 200.000\n",
      "e=  11.387 Pout=   2.277 power=   2.277\n",
      "i=100 X=[5063.354 2177.429] V=[   2.312  -32.943] thrust=[   1.034    2.029] fuel= 194.906\n",
      "e=  21.259 Pout=   4.252 power=   4.000\n",
      "i=200 X=[5160.135 1805.155] V=[  18.163  -38.944] thrust=[   1.816    3.564] fuel= 159.992\n",
      "e=  26.696 Pout=   5.339 power=   4.000\n",
      "i=300 X=[5433.472 1408.294] V=[  36.323  -40.414] thrust=[   1.816    3.564] fuel= 119.992\n",
      "crash! did not land in a vertical position (tilt angle = 0 degrees)\n",
      "\n",
      "X0=[5060, 1790] V0=[0.0, 0.0]\n",
      "e= -17.480 Pout=  -3.496 power=   0.000\n",
      "i=000 X=[5060.000 1789.963] V=[   0.000   -0.371] thrust=[   0.000    0.000] fuel= 200.000\n",
      "e=  18.942 Pout=   3.788 power=   3.788\n",
      "i=100 X=[5079.841 1603.793] V=[  10.455  -34.874] thrust=[   3.676    0.917] fuel= 189.225\n",
      "e=  51.233 Pout=  10.247 power=   4.000\n",
      "i=200 X=[5380.141 1116.450] V=[  49.242  -62.314] thrust=[   3.881    0.968] fuel= 149.251\n",
      "crash! did not land in a vertical position (tilt angle = 0 degrees)\n",
      "\n",
      "X0=[5060, 1606] V0=[0.0, 0.0]\n",
      "e= -15.640 Pout=  -3.128 power=   0.000\n",
      "i=000 X=[5060.000 1605.963] V=[   0.000   -0.371] thrust=[   0.000    0.000] fuel= 200.000\n",
      "e=  19.068 Pout=   3.814 power=   3.814\n",
      "i=100 X=[5083.492 1423.864] V=[  11.273  -33.154] thrust=[   3.560    1.367] fuel= 187.925\n",
      "crash! did not land in a vertical position (tilt angle = 0 degrees)\n",
      "\n",
      "X0=[5060, 2076] V0=[0.0, 0.0]\n",
      "e= -20.340 Pout=  -4.068 power=   0.000\n",
      "i=000 X=[5060.000 2075.963] V=[   0.000   -0.371] thrust=[   0.000    0.000] fuel= 200.000\n",
      "e=  16.586 Pout=   3.317 power=   3.317\n",
      "i=100 X=[5072.984 1888.325] V=[   7.881  -35.369] thrust=[   3.204    0.859] fuel= 191.841\n",
      "e=  48.317 Pout=   9.663 power=   4.000\n",
      "i=200 X=[5343.770 1398.666] V=[  46.194  -62.213] thrust=[   3.864    1.035] fuel= 152.176\n",
      "crash! did not land in a vertical position (tilt angle = 0 degrees)\n",
      "\n",
      "X0=[5060, 2942] V0=[0.0, 0.0]\n",
      "e= -29.000 Pout=  -5.800 power=   0.000\n",
      "i=000 X=[5060.000 2941.963] V=[   0.000   -0.371] thrust=[   0.000    0.000] fuel= 200.000\n",
      "e=   8.819 Pout=   1.764 power=   1.764\n",
      "i=100 X=[5061.815 2751.981] V=[   1.999  -36.232] thrust=[   1.496    0.935] fuel= 197.643\n",
      "e=  31.800 Pout=   6.360 power=   4.000\n",
      "i=200 X=[5220.674 2289.030] V=[  32.178  -54.484] thrust=[   3.392    2.120] fuel= 162.056\n",
      "e=  53.949 Pout=  10.790 power=   4.000\n",
      "i=300 X=[5713.761 1663.829] V=[  66.100  -70.397] thrust=[   3.392    2.120] fuel= 122.056\n",
      "crash! did not land in a vertical position (tilt angle = 0 degrees)\n",
      "\n",
      "X0=[5060, 2918] V0=[0.0, 0.0]\n",
      "e= -28.760 Pout=  -5.752 power=   0.000\n",
      "i=000 X=[5060.000 2917.963] V=[   0.000   -0.371] thrust=[   0.000    0.000] fuel= 200.000\n",
      "e=   8.209 Pout=   1.642 power=   1.642\n",
      "i=100 X=[5060.819 2728.873] V=[   0.868  -35.332] thrust=[   0.615    1.522] fuel= 197.682\n",
      "e=  20.104 Pout=   4.021 power=   4.000\n",
      "i=200 X=[5122.737 2319.909] V=[  12.793  -42.926] thrust=[   1.498    3.709] fuel= 165.848\n",
      "e=  24.420 Pout=   4.884 power=   4.000\n",
      "i=300 X=[5326.341 1890.532] V=[  27.778  -42.949] thrust=[   1.498    3.709] fuel= 125.848\n",
      "e=  28.739 Pout=   5.748 power=   4.000\n",
      "i=400 X=[5679.789 1460.928] V=[  42.762  -42.972] thrust=[   1.498    3.709] fuel=  85.848\n",
      "crash! did not land in a vertical position (tilt angle = 0 degrees)\n",
      "\n",
      "count/trials = 0.0\n"
     ]
    },
    {
     "ename": "AssertionError",
     "evalue": "",
     "output_type": "error",
     "traceback": [
      "\u001b[0;31m---------------------------------------------------------------------------\u001b[0m",
      "\u001b[0;31mAssertionError\u001b[0m                            Traceback (most recent call last)",
      "\u001b[0;32m<ipython-input-21-db5f50d4db2a>\u001b[0m in \u001b[0;36m<module>\u001b[0;34m\u001b[0m\n\u001b[1;32m     15\u001b[0m \u001b[0;34m\u001b[0m\u001b[0m\n\u001b[1;32m     16\u001b[0m \u001b[0mprint\u001b[0m\u001b[0;34m(\u001b[0m\u001b[0;34mf'count/trials = {count/trials}'\u001b[0m\u001b[0;34m)\u001b[0m\u001b[0;34m\u001b[0m\u001b[0;34m\u001b[0m\u001b[0m\n\u001b[0;32m---> 17\u001b[0;31m \u001b[0;32massert\u001b[0m \u001b[0mcount\u001b[0m\u001b[0;34m/\u001b[0m\u001b[0mtrials\u001b[0m \u001b[0;34m>\u001b[0m \u001b[0;36m0.8\u001b[0m \u001b[0;31m# require 80% success rate\u001b[0m\u001b[0;34m\u001b[0m\u001b[0;34m\u001b[0m\u001b[0m\n\u001b[0m",
      "\u001b[0;31mAssertionError\u001b[0m: "
     ]
    }
   ],
   "source": [
    "# Test 1. Random vertical starting positions\n",
    "np.random.seed(123) # seed random number generator for reproducible results\n",
    "land, landing_site = mars_surface()\n",
    "\n",
    "trials = 20\n",
    "count = 0\n",
    "for i in range(trials):\n",
    "    X0 = [(land[landing_site+1, 0] + land[landing_site, 0]) // 2, randint(1500, 3000)]\n",
    "    V0 = [0., 0.]\n",
    "    print(f'X0={X0} V0={V0}')\n",
    "    Xs, Vs, thrust, success = simulate(X0, V0, land, landing_site, dt=0.1, Nstep=2000, \n",
    "                                       autopilot=proportional_autopilot, fuel=200)\n",
    "    count += success\n",
    "    print()\n",
    "\n",
    "print(f'count/trials = {count/trials}')\n",
    "assert count/trials > 0.8 # require 80% success rate"
   ]
  },
  {
   "cell_type": "code",
   "execution_count": 24,
   "metadata": {
    "nbgrader": {
     "grade": true,
     "grade_id": "cell-91ba74c3503423a1",
     "locked": true,
     "points": 5,
     "schema_version": 3,
     "solution": false
    },
    "scrolled": true
   },
   "outputs": [
    {
     "name": "stdout",
     "output_type": "stream",
     "text": [
      "X0=[5060, 2138] V0=[0.0, -36.004923736961544]\n",
      "e=  15.045 Pout=   3.009 power=   3.009\n",
      "i=000 X=[5060.016 2134.388] V=[   0.159  -36.121] thrust=[   1.595    2.552] fuel= 199.699\n",
      "e=  23.880 Pout=   4.776 power=   4.000\n",
      "i=100 X=[5159.745 1742.822] V=[  20.324  -40.961] thrust=[   2.120    3.392] fuel= 161.647\n",
      "e=  31.322 Pout=   6.264 power=   4.000\n",
      "i=200 X=[5470.027 1317.112] V=[  41.521  -44.149] thrust=[   2.120    3.392] fuel= 121.647\n",
      "crash! did not land in a vertical position (tilt angle = 0 degrees)\n",
      "\n",
      "X0=[5060, 2442] V0=[0.0, 12.731700933761672]\n",
      "e= -36.732 Pout=  -7.346 power=   0.000\n",
      "i=000 X=[5060.000 2443.236] V=[   0.000   12.361] thrust=[   0.000    0.000] fuel= 200.000\n",
      "e=   0.965 Pout=   0.193 power=   0.193\n",
      "i=100 X=[5060.002 2379.441] V=[   0.015  -24.718] thrust=[   0.082    0.175] fuel= 199.965\n",
      "e=  19.018 Pout=   3.804 power=   3.804\n",
      "i=200 X=[5101.878 2034.344] V=[  10.656  -39.007] thrust=[   1.607    3.447] fuel= 174.785\n",
      "e=  23.987 Pout=   4.797 power=   4.000\n",
      "i=300 X=[5293.202 1638.640] V=[  27.497  -40.002] thrust=[   1.690    3.625] fuel= 134.936\n",
      "e=  28.887 Pout=   5.777 power=   4.000\n",
      "i=400 X=[5653.541 1234.290] V=[  44.402  -40.860] thrust=[   1.690    3.625] fuel=  94.936\n",
      "crash! did not land in a vertical position (tilt angle = 0 degrees)\n",
      "\n",
      "X0=[5060, 2863] V0=[0.0, -25.524072304608016]\n",
      "e=  -2.686 Pout=  -0.537 power=   0.000\n",
      "i=000 X=[5060.000 2860.410] V=[   0.000  -25.895] thrust=[   0.000    0.000] fuel= 200.000\n",
      "e=  19.880 Pout=   3.976 power=   3.976\n",
      "i=100 X=[5107.621 2479.598] V=[  13.554  -44.350] thrust=[   2.337    3.217] fuel= 176.941\n",
      "e=  29.302 Pout=   5.860 power=   4.000\n",
      "i=200 X=[5361.887 2012.108] V=[  37.065  -49.100] thrust=[   2.351    3.236] fuel= 136.942\n",
      "e=  39.197 Pout=   7.839 power=   4.000\n",
      "i=300 X=[5851.267 1497.124] V=[  60.576  -53.849] thrust=[   2.351    3.236] fuel=  96.942\n",
      "crash! did not land in a vertical position (tilt angle = 0 degrees)\n",
      "\n",
      "X0=[5060, 2108] V0=[0.0, 9.390239967402373]\n",
      "e= -30.050 Pout=  -6.010 power=   0.000\n",
      "i=000 X=[5060.000 2108.902] V=[   0.000    9.019] thrust=[   0.000    0.000] fuel= 200.000\n",
      "e=   7.059 Pout=   1.412 power=   1.412\n",
      "i=100 X=[5060.889 2012.460] V=[   1.176  -27.069] thrust=[   1.065    0.926] fuel= 198.442\n",
      "e=  26.039 Pout=   5.208 power=   4.000\n",
      "i=200 X=[5184.044 1651.204] V=[  26.365  -42.282] thrust=[   3.019    2.624] fuel= 165.066\n",
      "e=  41.673 Pout=   8.335 power=   4.000\n",
      "i=300 X=[5600.142 1173.498] V=[  56.553  -53.150] thrust=[   3.019    2.624] fuel= 125.066\n",
      "crash! did not land in a vertical position (tilt angle = 0 degrees)\n",
      "\n",
      "X0=[5060, 1951] V0=[0.0, -32.454824385250745]\n",
      "e=  13.365 Pout=   2.673 power=   2.673\n",
      "i=000 X=[5060.017 1947.738] V=[   0.168  -32.618] thrust=[   1.682    2.077] fuel= 199.733\n",
      "e=  25.304 Pout=   5.061 power=   4.000\n",
      "i=100 X=[5174.360 1573.276] V=[  23.660  -40.718] thrust=[   2.517    3.109] fuel= 162.403\n",
      "e=  35.698 Pout=   7.140 power=   4.000\n",
      "i=200 X=[5538.087 1135.676] V=[  48.833  -46.742] thrust=[   2.517    3.109] fuel= 122.403\n",
      "crash! did not land in a vertical position (tilt angle = 0 degrees)\n",
      "\n",
      "X0=[5060, 2846] V0=[0.0, 3.1827587096866097]\n",
      "e= -31.223 Pout=  -6.245 power=   0.000\n",
      "i=000 X=[5060.000 2846.281] V=[   0.000    2.812] thrust=[   0.000    0.000] fuel= 200.000\n",
      "e=   6.841 Pout=   1.368 power=   1.368\n",
      "i=100 X=[5060.832 2687.453] V=[   1.199  -33.634] thrust=[   1.197    0.663] fuel= 198.629\n",
      "e=  31.909 Pout=   6.382 power=   4.000\n",
      "i=200 X=[5207.114 2238.150] V=[  31.222  -54.102] thrust=[   3.498    1.939] fuel= 164.302\n",
      "e=  55.914 Pout=  11.183 power=   4.000\n",
      "i=300 X=[5696.006 1607.658] V=[  66.207  -71.819] thrust=[   3.498    1.939] fuel= 124.302\n",
      "crash! did not land in a vertical position (tilt angle = 0 degrees)\n",
      "\n",
      "X0=[5060, 2700] V0=[0.0, -0.7915223207657718]\n",
      "e= -25.788 Pout=  -5.158 power=   0.000\n",
      "i=000 X=[5060.000 2699.884] V=[   0.000   -1.163] thrust=[   0.000    0.000] fuel= 200.000\n",
      "e=  10.955 Pout=   2.191 power=   2.191\n",
      "i=100 X=[5063.727 2503.764] V=[   3.108  -35.844] thrust=[   1.726    1.349] fuel= 196.056\n",
      "e=  30.010 Pout=   6.002 power=   4.000\n",
      "i=200 X=[5230.752 2064.126] V=[  31.968  -50.406] thrust=[   3.152    2.463] fuel= 159.432\n",
      "e=  48.152 Pout=   9.630 power=   4.000\n",
      "i=300 X=[5709.613 1497.022] V=[  63.489  -62.890] thrust=[   3.152    2.463] fuel= 119.432\n",
      "crash! did not land in a vertical position (tilt angle = 0 degrees)\n",
      "\n",
      "X0=[5060, 2882] V0=[0.0, -17.704108614682177]\n",
      "e= -10.696 Pout=  -2.139 power=   0.000\n",
      "i=000 X=[5060.000 2880.192] V=[   0.000  -18.075] thrust=[   0.000    0.000] fuel= 200.000\n",
      "e=  16.766 Pout=   3.353 power=   3.353\n",
      "i=100 X=[5078.408 2548.163] V=[   6.748  -41.942] thrust=[   1.522    2.988] fuel= 185.137\n",
      "e=  23.602 Pout=   4.720 power=   4.000\n",
      "i=200 X=[5233.269 2112.837] V=[  24.419  -44.370] thrust=[   1.816    3.564] fuel= 146.212\n",
      "e=  29.582 Pout=   5.916 power=   4.000\n",
      "i=300 X=[5569.167 1661.716] V=[  42.579  -45.840] thrust=[   1.816    3.564] fuel= 106.212\n",
      "e=  35.708 Pout=   7.142 power=   4.000\n",
      "i=400 X=[6086.661 1195.898] V=[  60.738  -47.309] thrust=[   1.816    3.564] fuel=  66.212\n",
      "crash! did not land in a vertical position (tilt angle = 0 degrees)\n",
      "\n",
      "X0=[5060, 1790] V0=[0.0, -20.628595361117064]\n",
      "e=   3.149 Pout=   0.630 power=   0.630\n",
      "i=000 X=[5060.004 1787.905] V=[   0.040  -20.951] thrust=[   0.405    0.482] fuel= 199.937\n",
      "e=  21.536 Pout=   4.307 power=   4.000\n",
      "i=100 X=[5135.722 1480.739] V=[  18.532  -36.024] thrust=[   2.571    3.064] fuel= 171.169\n",
      "e=  31.927 Pout=   6.385 power=   4.000\n",
      "i=200 X=[5450.884 1087.832] V=[  44.243  -42.492] thrust=[   2.571    3.064] fuel= 131.169\n",
      "crash! did not land in a vertical position (tilt angle = 0 degrees)\n",
      "\n",
      "X0=[5060, 1606] V0=[0.0, 27.700443888978043]\n",
      "e= -43.340 Pout=  -8.668 power=   0.000\n",
      "i=000 X=[5060.000 1608.733] V=[   0.000   27.329] thrust=[   0.000    0.000] fuel= 200.000\n",
      "e=  -7.126 Pout=  -1.425 power=   0.000\n",
      "i=100 X=[5060.000 1694.621] V=[   0.000   -9.781] thrust=[   0.000    0.000] fuel= 200.000\n",
      "e=  27.138 Pout=   5.428 power=   4.000\n",
      "i=200 X=[5123.007 1426.291] V=[  20.903  -41.290] thrust=[   3.864    1.035] fuel= 178.360\n",
      "crash! did not land in a vertical position (tilt angle = 0 degrees)\n",
      "\n",
      "X0=[5060, 2942] V0=[0.0, -32.60934837632992]\n",
      "e=   3.609 Pout=   0.722 power=   0.722\n",
      "i=000 X=[5060.003 2938.709] V=[   0.027  -32.914] thrust=[   0.270    0.669] fuel= 199.928\n",
      "e=  19.421 Pout=   3.884 power=   3.884\n",
      "i=100 X=[5103.368 2528.831] V=[  10.402  -44.344] thrust=[   1.455    3.601] fuel= 172.232\n",
      "e=  23.949 Pout=   4.790 power=   4.000\n",
      "i=200 X=[5282.846 2084.746] V=[  25.364  -44.421] thrust=[   1.498    3.709] fuel= 132.291\n",
      "e=  28.415 Pout=   5.683 power=   4.000\n",
      "i=300 X=[5612.161 1640.417] V=[  40.349  -44.444] thrust=[   1.498    3.709] fuel=  92.291\n",
      "e=  32.883 Pout=   6.577 power=   4.000\n",
      "i=400 X=[6091.318 1195.863] V=[  55.333  -44.467] thrust=[   1.498    3.709] fuel=  52.291\n",
      "crash! did not land in a vertical position (tilt angle = 0 degrees)\n",
      "\n",
      "X0=[5060, 1646] V0=[0.0, -18.773877702753474]\n",
      "e=   2.734 Pout=   0.547 power=   0.547\n",
      "i=000 X=[5060.002 1644.090] V=[   0.025  -19.096] thrust=[   0.248    0.487] fuel= 199.945\n",
      "e=  19.221 Pout=   3.844 power=   3.844\n",
      "i=100 X=[5109.479 1362.339] V=[  12.111  -32.486] thrust=[   1.745    3.425] fuel= 173.323\n",
      "crash! did not land in a vertical position (tilt angle = 0 degrees)\n",
      "\n",
      "X0=[5060, 1658] V0=[0.0, 1.1763375266169547]\n",
      "e= -17.336 Pout=  -3.467 power=   0.000\n",
      "i=000 X=[5060.000 1658.081] V=[   0.000    0.805] thrust=[   0.000    0.000] fuel= 200.000\n",
      "e=  13.767 Pout=   2.753 power=   2.753\n",
      "i=100 X=[5067.697 1494.508] V=[   3.834  -28.444] thrust=[   1.207    2.475] fuel= 191.254\n",
      "e=  21.292 Pout=   4.258 power=   4.000\n",
      "i=200 X=[5182.509 1179.455] V=[  19.853  -32.711] thrust=[   1.753    3.595] fuel= 154.712\n",
      "crash! did not land in a vertical position (tilt angle = 0 degrees)\n",
      "\n",
      "X0=[5060, 2220] V0=[0.0, -19.74505460464546]\n",
      "e=  -2.035 Pout=  -0.407 power=   0.000\n",
      "i=000 X=[5060.000 2217.988] V=[   0.000  -20.116] thrust=[   0.000    0.000] fuel= 200.000\n",
      "e=  31.752 Pout=   6.350 power=   4.000\n",
      "i=100 X=[5155.545 1855.023] V=[  26.222  -50.200] thrust=[   3.864    1.035] fuel= 172.853\n",
      "e=  64.854 Pout=  12.971 power=   4.000\n",
      "i=200 X=[5612.878 1217.898] V=[  64.859  -76.957] thrust=[   3.864    1.035] fuel= 132.853\n",
      "crash! did not land in a vertical position (tilt angle = 0 degrees)\n",
      "\n",
      "X0=[5060, 2450] V0=[0.0, -24.95446346034933]\n",
      "e=   0.874 Pout=   0.175 power=   0.175\n",
      "i=000 X=[5060.001 2447.469] V=[   0.012  -25.313] thrust=[   0.119    0.128] fuel= 199.983\n",
      "e=  21.970 Pout=   4.394 power=   4.000\n",
      "i=100 X=[5131.987 2084.003] V=[  18.580  -42.511] thrust=[   2.728    2.925] fuel= 172.757\n",
      "e=  34.466 Pout=   6.893 power=   4.000\n",
      "i=200 X=[5455.551 1619.221] V=[  45.860  -50.367] thrust=[   2.728    2.925] fuel= 132.757\n",
      "e=  47.747 Pout=   9.549 power=   4.000\n",
      "i=300 X=[6051.913 1075.881] V=[  73.140  -58.223] thrust=[   2.728    2.925] fuel=  92.757\n",
      "crash! did not land in a vertical position (tilt angle = 0 degrees)\n",
      "\n",
      "X0=[5060, 2710] V0=[0.0, 48.5559785610705]\n",
      "e= -75.236 Pout= -15.047 power=   0.000\n",
      "i=000 X=[5060.000 2714.818] V=[   0.000   48.185] thrust=[   0.000    0.000] fuel= 200.000\n",
      "e= -41.108 Pout=  -8.222 power=   0.000\n",
      "i=100 X=[5060.000 3009.262] V=[   0.000   11.075] thrust=[   0.000    0.000] fuel= 200.000\n",
      "e=  -3.268 Pout=  -0.654 power=   0.000\n",
      "i=200 X=[5060.000 2932.605] V=[   0.000  -26.035] thrust=[   0.000    0.000] fuel= 200.000\n",
      "e=  18.472 Pout=   3.694 power=   3.694\n",
      "i=300 X=[5091.726 2552.885] V=[   9.086  -43.660] thrust=[   1.561    3.348] fuel= 178.501\n",
      "e=  24.077 Pout=   4.815 power=   4.000\n",
      "i=400 X=[5266.716 2109.295] V=[  25.858  -44.803] thrust=[   1.690    3.625] fuel= 138.815\n",
      "e=  29.457 Pout=   5.891 power=   4.000\n",
      "i=500 X=[5610.663 1656.935] V=[  42.763  -45.661] thrust=[   1.690    3.625] fuel=  98.815\n",
      "e=  34.923 Pout=   6.985 power=   4.000\n",
      "i=600 X=[6123.657 1195.998] V=[  59.667  -46.518] thrust=[   1.690    3.625] fuel=  58.815\n",
      "crash! did not land in a vertical position (tilt angle = 0 degrees)\n",
      "\n",
      "X0=[5060, 1934] V0=[0.0, 11.289452576296767]\n",
      "e= -30.209 Pout=  -6.042 power=   0.000\n",
      "i=000 X=[5060.000 1935.092] V=[   0.000   10.918] thrust=[   0.000    0.000] fuel= 200.000\n",
      "e=   6.785 Pout=   1.357 power=   1.357\n",
      "i=100 X=[5060.791 1857.558] V=[   1.086  -25.247] thrust=[   1.024    0.890] fuel= 198.561\n",
      "e=  25.779 Pout=   5.156 power=   4.000\n",
      "i=200 X=[5181.553 1513.212] V=[  26.068  -40.641] thrust=[   3.019    2.624] fuel= 165.459\n",
      "e=  41.249 Pout=   8.250 power=   4.000\n",
      "i=300 X=[5594.686 1051.921] V=[  56.257  -51.509] thrust=[   3.019    2.624] fuel= 125.459\n",
      "crash! did not land in a vertical position (tilt angle = 0 degrees)\n",
      "\n",
      "X0=[5060, 2030] V0=[0.0, 29.772840889588096]\n",
      "e= -49.653 Pout=  -9.931 power=   0.000\n",
      "i=000 X=[5060.000 2032.940] V=[   0.000   29.402] thrust=[   0.000    0.000] fuel= 200.000\n",
      "e= -13.646 Pout=  -2.729 power=   0.000\n",
      "i=100 X=[5060.000 2139.552] V=[   0.000   -7.708] thrust=[   0.000    0.000] fuel= 200.000\n",
      "e=  17.838 Pout=   3.568 power=   3.568\n",
      "i=200 X=[5084.007 1894.505] V=[  10.215  -36.547] thrust=[   2.773    2.245] fuel= 186.856\n",
      "e=  34.217 Pout=   6.843 power=   4.000\n",
      "i=300 X=[5341.299 1467.268] V=[  41.110  -48.638] thrust=[   3.109    2.517] fuel= 147.101\n",
      "crash! did not land in a vertical position (tilt angle = 0 degrees)\n",
      "\n",
      "X0=[5060, 2440] V0=[0.0, -6.6581760773332235]\n",
      "e= -17.322 Pout=  -3.464 power=   0.000\n",
      "i=000 X=[5060.000 2439.297] V=[   0.000   -7.029] thrust=[   0.000    0.000] fuel= 200.000\n",
      "e=  15.805 Pout=   3.161 power=   3.161\n",
      "i=100 X=[5074.739 2194.870] V=[   7.339  -37.531] thrust=[   2.349    2.115] fuel= 190.124\n",
      "e=  31.156 Pout=   6.231 power=   4.000\n",
      "i=200 X=[5291.791 1761.506] V=[  36.368  -48.503] thrust=[   2.973    2.677] fuel= 151.062\n",
      "e=  46.863 Pout=   9.373 power=   4.000\n",
      "i=300 X=[5805.589 1224.234] V=[  66.094  -58.848] thrust=[   2.973    2.677] fuel= 111.062\n",
      "crash! did not land in a vertical position (tilt angle = 0 degrees)\n",
      "\n",
      "X0=[5060, 2580] V0=[0.0, -15.920401798917204]\n",
      "e=  -9.460 Pout=  -1.892 power=   0.000\n",
      "i=000 X=[5060.000 2578.371] V=[   0.000  -16.292] thrust=[   0.000    0.000] fuel= 200.000\n",
      "e=  29.685 Pout=   5.937 power=   4.000\n",
      "i=100 X=[5117.087 2232.042] V=[  20.319  -51.981] thrust=[   3.990    0.279] fuel= 179.631\n",
      "e=  70.902 Pout=  14.180 power=   4.000\n",
      "i=200 X=[5521.786 1538.921] V=[  60.222  -86.300] thrust=[   3.990    0.279] fuel= 139.631\n",
      "crash! did not land in a vertical position (tilt angle = 0 degrees)\n",
      "\n",
      "count/trials = 0.0\n"
     ]
    },
    {
     "ename": "NameError",
     "evalue": "name 'minimize' is not defined",
     "output_type": "error",
     "traceback": [
      "\u001b[0;31m---------------------------------------------------------------------------\u001b[0m",
      "\u001b[0;31mNameError\u001b[0m                                 Traceback (most recent call last)",
      "\u001b[0;32m<ipython-input-24-83fd50ec19c1>\u001b[0m in \u001b[0;36m<module>\u001b[0;34m\u001b[0m\n\u001b[1;32m     20\u001b[0m \u001b[0;31m#DELETE BELOW - opimisation trial\u001b[0m\u001b[0;34m\u001b[0m\u001b[0;34m\u001b[0m\u001b[0;34m\u001b[0m\u001b[0m\n\u001b[1;32m     21\u001b[0m \u001b[0;34m\u001b[0m\u001b[0m\n\u001b[0;32m---> 22\u001b[0;31m \u001b[0mMinLandingSpeed\u001b[0m \u001b[0;34m=\u001b[0m \u001b[0mminimize\u001b[0m\u001b[0;34m(\u001b[0m\u001b[0me\u001b[0m\u001b[0;34m,\u001b[0m\u001b[0;36m40\u001b[0m\u001b[0;34m)\u001b[0m\u001b[0;34m\u001b[0m\u001b[0;34m\u001b[0m\u001b[0m\n\u001b[0m\u001b[1;32m     23\u001b[0m \u001b[0mprint\u001b[0m\u001b[0;34m(\u001b[0m\u001b[0mMinLandingSpeed\u001b[0m\u001b[0;34m)\u001b[0m\u001b[0;34m\u001b[0m\u001b[0;34m\u001b[0m\u001b[0m\n",
      "\u001b[0;31mNameError\u001b[0m: name 'minimize' is not defined"
     ]
    }
   ],
   "source": [
    "# Test 2 - random initial vertical velocity\n",
    "\n",
    "np.random.seed(123) # seed random number generator for reproducible results\n",
    "land, landing_site = mars_surface()\n",
    "\n",
    "trials = 20\n",
    "count = 0\n",
    "for i in range(trials):\n",
    "    X0 = [(land[landing_site+1, 0] + land[landing_site, 0]) // 2, randint(1500, 3000)]\n",
    "    V0 = [0., np.random.uniform(-50, 50)]  \n",
    "    print(f'X0={X0} V0={V0}')\n",
    "    Xs, Vs, thrust, success = simulate(X0, V0, land, landing_site, dt=0.1, Nstep=2000, \n",
    "                                       autopilot=proportional_autopilot, fuel=200)\n",
    "    count += success\n",
    "    print()\n",
    "\n",
    "print(f'count/trials = {count/trials}')\n",
    "assert count/trials > 0.8 # require 80% success rate\n"
   ]
  },
  {
   "cell_type": "code",
   "execution_count": 40,
   "metadata": {
    "nbgrader": {
     "grade": true,
     "grade_id": "cell-fc08c836395ce2c6",
     "locked": true,
     "points": 5,
     "schema_version": 3,
     "solution": false
    },
    "scrolled": true
   },
   "outputs": [
    {
     "name": "stdout",
     "output_type": "stream",
     "text": [
      "X0=[5060, 2138] V0=[0.0, 0.0]\n",
      "e= -20.960 Pout=  -4.192 power=   0.000\n",
      "i=000 X=[5060.000 2137.963] V=[   0.000   -0.371] thrust=[   0.000    0.000] fuel= 200.000\n",
      "e=  11.910 Pout=   2.382 power=   2.382\n",
      "i=100 X=[5060.000 1957.308] V=[   0.000  -31.227] thrust=[   0.000    2.382] fuel= 193.746\n",
      "e=  19.176 Pout=   3.835 power=   3.835\n",
      "i=200 X=[5060.000 1615.042] V=[   0.000  -34.929] thrust=[   0.000    3.835] fuel= 160.338\n",
      "e=  20.115 Pout=   4.023 power=   4.000\n",
      "i=300 X=[5060.000 1276.898] V=[   0.000  -32.468] thrust=[   0.000    4.000] fuel= 120.767\n",
      "safe landing - well done!\n",
      "\n",
      "X0=[3554, 2846] V0=[0.0, 0.0]\n",
      "e= -37.340 Pout=  -7.468 power=   0.000\n",
      "i=000 X=[3554.000 2845.963] V=[   0.000   -0.371] thrust=[   0.000    0.000] fuel= 200.000\n",
      "e=   1.595 Pout=   0.319 power=   0.319\n",
      "i=100 X=[3554.000 2654.863] V=[   0.000  -37.400] thrust=[   0.000    0.319] fuel= 199.919\n",
      "e=  18.364 Pout=   3.673 power=   3.673\n",
      "i=200 X=[3554.000 2194.949] V=[   0.000  -49.246] thrust=[   0.000    3.673] fuel= 174.655\n",
      "e=  20.983 Pout=   4.197 power=   4.000\n",
      "i=300 X=[3554.000 1711.570] V=[   0.000  -46.996] thrust=[   0.000    4.000] fuel= 135.295\n",
      "e=  22.649 Pout=   4.530 power=   4.000\n",
      "i=400 X=[3554.000 1256.199] V=[   0.000  -44.106] thrust=[   0.000    4.000] fuel=  95.295\n",
      "e=  24.027 Pout=   4.805 power=   4.000\n",
      "i=500 X=[3554.000  829.729] V=[   0.000  -41.216] thrust=[   0.000    4.000] fuel=  55.295\n",
      "e=  25.115 Pout=   5.023 power=   4.000\n",
      "i=600 X=[3554.000  432.158] V=[   0.000  -38.326] thrust=[   0.000    4.000] fuel=  15.295\n",
      "Fuel empty! Setting thrust to zero\n",
      "crash! vertical speed must be limited (<40m/s in absolute value), got  51.67229231059829\n",
      "\n",
      "X0=[4569, 1790] V0=[0.0, 0.0]\n",
      "e= -16.300 Pout=  -3.260 power=   0.000\n",
      "i=000 X=[4569.000 1789.963] V=[   0.000   -0.371] thrust=[   0.000    0.000] fuel= 200.000\n",
      "e=  13.530 Pout=   2.706 power=   2.706\n",
      "i=100 X=[4569.000 1618.528] V=[   0.000  -28.244] thrust=[   0.000    2.706] fuel= 190.762\n",
      "e=  19.219 Pout=   3.844 power=   3.844\n",
      "i=200 X=[4569.000 1314.434] V=[   0.000  -30.781] thrust=[   0.000    3.844] fuel= 156.190\n",
      "safe landing - well done!\n",
      "\n",
      "X0=[4653, 2326] V0=[0.0, 0.0]\n",
      "e= -32.190 Pout=  -6.438 power=   0.000\n",
      "i=000 X=[4653.000 2325.963] V=[   0.000   -0.371] thrust=[   0.000    0.000] fuel= 200.000\n",
      "e=   5.818 Pout=   1.164 power=   1.164\n",
      "i=100 X=[4653.000 2135.543] V=[   0.000  -36.395] thrust=[   0.000    1.164] fuel= 198.914\n",
      "e=  18.761 Pout=   3.752 power=   3.752\n",
      "i=200 X=[4653.000 1708.915] V=[   0.000  -44.820] thrust=[   0.000    3.752] fuel= 170.229\n",
      "e=  20.753 Pout=   4.151 power=   4.000\n",
      "i=300 X=[4653.000 1271.180] V=[   0.000  -42.409] thrust=[   0.000    4.000] fuel= 130.708\n",
      "e=  21.961 Pout=   4.392 power=   4.000\n",
      "i=400 X=[4653.000  861.688] V=[   0.000  -39.519] thrust=[   0.000    4.000] fuel=  90.708\n",
      "e=  22.880 Pout=   4.576 power=   4.000\n",
      "i=500 X=[4653.000  481.095] V=[   0.000  -36.629] thrust=[   0.000    4.000] fuel=  50.708\n",
      "e=  23.510 Pout=   4.702 power=   4.000\n",
      "i=600 X=[4653.000  129.403] V=[   0.000  -33.739] thrust=[   0.000    4.000] fuel=  10.708\n",
      "safe landing - well done!\n",
      "\n",
      "X0=[5167, 2768] V0=[0.0, 0.0]\n",
      "e= -27.640 Pout=  -5.528 power=   0.000\n",
      "i=000 X=[5167.000 2767.963] V=[   0.000   -0.371] thrust=[   0.000    0.000] fuel= 200.000\n",
      "e=   8.728 Pout=   1.746 power=   1.746\n",
      "i=100 X=[5167.000 2579.741] V=[   0.000  -34.717] thrust=[   0.000    1.746] fuel= 197.236\n",
      "e=  18.992 Pout=   3.798 power=   3.798\n",
      "i=200 X=[5167.000 2185.682] V=[   0.000  -40.841] thrust=[   0.000    3.798] fuel= 166.250\n",
      "e=  20.506 Pout=   4.101 power=   4.000\n",
      "i=300 X=[5167.000 1788.375] V=[   0.000  -38.359] thrust=[   0.000    4.000] fuel= 126.658\n",
      "e=  21.309 Pout=   4.262 power=   4.000\n",
      "i=400 X=[5167.000 1419.375] V=[   0.000  -35.469] thrust=[   0.000    4.000] fuel=  86.658\n",
      "e=  21.823 Pout=   4.365 power=   4.000\n",
      "i=500 X=[5167.000 1079.275] V=[   0.000  -32.579] thrust=[   0.000    4.000] fuel=  46.658\n",
      "safe landing - well done!\n",
      "\n",
      "X0=[4555, 2828] V0=[0.0, 0.0]\n",
      "e= -32.720 Pout=  -6.544 power=   0.000\n",
      "i=000 X=[4555.000 2827.963] V=[   0.000   -0.371] thrust=[   0.000    0.000] fuel= 200.000\n",
      "e=   5.432 Pout=   1.086 power=   1.086\n",
      "i=100 X=[4555.000 2637.404] V=[   0.000  -36.545] thrust=[   0.000    1.086] fuel= 199.064\n",
      "e=  18.727 Pout=   3.745 power=   3.745\n",
      "i=200 X=[4555.000 2207.160] V=[   0.000  -45.280] thrust=[   0.000    3.745] fuel= 170.689\n",
      "e=  20.780 Pout=   4.156 power=   4.000\n",
      "i=300 X=[4555.000 1764.718] V=[   0.000  -42.881] thrust=[   0.000    4.000] fuel= 131.180\n",
      "e=  22.035 Pout=   4.407 power=   4.000\n",
      "i=400 X=[4555.000 1350.504] V=[   0.000  -39.991] thrust=[   0.000    4.000] fuel=  91.180\n",
      "e=  23.001 Pout=   4.600 power=   4.000\n",
      "i=500 X=[4555.000  965.190] V=[   0.000  -37.101] thrust=[   0.000    4.000] fuel=  51.180\n",
      "e=  23.678 Pout=   4.736 power=   4.000\n",
      "i=600 X=[4555.000  608.776] V=[   0.000  -34.211] thrust=[   0.000    4.000] fuel=  11.180\n",
      "safe landing - well done!\n",
      "\n",
      "X0=[3099, 2611] V0=[0.0, 0.0]\n",
      "e= -25.190 Pout=  -5.038 power=   0.000\n",
      "i=000 X=[3099.000 2610.963] V=[   0.000   -0.371] thrust=[   0.000    0.000] fuel= 200.000\n",
      "e=  10.030 Pout=   2.006 power=   2.006\n",
      "i=100 X=[3099.000 2424.834] V=[   0.000  -33.562] thrust=[   0.000    2.006] fuel= 196.081\n",
      "e=  19.079 Pout=   3.816 power=   3.816\n",
      "i=200 X=[3099.000 2049.294] V=[   0.000  -38.680] thrust=[   0.000    3.816] fuel= 164.089\n",
      "e=  20.362 Pout=   4.072 power=   4.000\n",
      "i=300 X=[3099.000 1673.740] V=[   0.000  -36.187] thrust=[   0.000    4.000] fuel= 124.486\n",
      "e=  20.948 Pout=   4.190 power=   4.000\n",
      "i=400 X=[3099.000 1326.466] V=[   0.000  -33.297] thrust=[   0.000    4.000] fuel=  84.486\n",
      "safe landing - well done!\n",
      "\n",
      "X0=[5536, 1516] V0=[0.0, 0.0]\n",
      "e= -23.750 Pout=  -4.750 power=   0.000\n",
      "i=000 X=[5536.000 1515.963] V=[   0.000   -0.371] thrust=[   0.000    0.000] fuel= 200.000\n",
      "e=  10.719 Pout=   2.144 power=   2.144\n",
      "i=100 X=[5536.000 1331.415] V=[   0.000  -32.813] thrust=[   0.000    2.144] fuel= 195.332\n",
      "e=  19.119 Pout=   3.824 power=   3.824\n",
      "i=200 X=[5536.000  967.031] V=[   0.000  -37.406] thrust=[   0.000    3.824] fuel= 162.815\n",
      "e=  20.276 Pout=   4.055 power=   4.000\n",
      "i=300 X=[5536.000  604.239] V=[   0.000  -34.915] thrust=[   0.000    4.000] fuel= 123.214\n",
      "e=  20.735 Pout=   4.147 power=   4.000\n",
      "i=400 X=[5536.000  269.687] V=[   0.000  -32.025] thrust=[   0.000    4.000] fuel=  83.214\n",
      "safe landing - well done!\n",
      "\n",
      "X0=[3676, 2479] V0=[0.0, 0.0]\n",
      "e= -34.320 Pout=  -6.864 power=   0.000\n",
      "i=000 X=[3676.000 2478.963] V=[   0.000   -0.371] thrust=[   0.000    0.000] fuel= 200.000\n",
      "e=   4.203 Pout=   0.841 power=   0.841\n",
      "i=100 X=[3676.000 2288.095] V=[   0.000  -36.938] thrust=[   0.000    0.841] fuel= 199.457\n",
      "e=  18.616 Pout=   3.723 power=   3.723\n",
      "i=200 X=[3676.000 1847.185] V=[   0.000  -46.663] thrust=[   0.000    3.723] fuel= 172.072\n",
      "e=  20.856 Pout=   4.171 power=   4.000\n",
      "i=300 X=[3676.000 1390.546] V=[   0.000  -44.306] thrust=[   0.000    4.000] fuel= 132.605\n",
      "e=  22.253 Pout=   4.451 power=   4.000\n",
      "i=400 X=[3676.000  962.076] V=[   0.000  -41.416] thrust=[   0.000    4.000] fuel=  92.605\n",
      "e=  23.362 Pout=   4.672 power=   4.000\n",
      "i=500 X=[3676.000  562.506] V=[   0.000  -38.526] thrust=[   0.000    4.000] fuel=  52.605\n",
      "e=  24.181 Pout=   4.836 power=   4.000\n",
      "i=600 X=[3676.000  191.836] V=[   0.000  -35.636] thrust=[   0.000    4.000] fuel=  12.605\n",
      "Fuel empty! Setting thrust to zero\n",
      "safe landing - well done!\n",
      "\n",
      "X0=[5254, 2888] V0=[0.0, 0.0]\n",
      "e= -35.660 Pout=  -7.132 power=   0.000\n",
      "i=000 X=[5254.000 2887.963] V=[   0.000   -0.371] thrust=[   0.000    0.000] fuel= 200.000\n",
      "e=   3.094 Pout=   0.619 power=   0.619\n",
      "i=100 X=[5254.000 2696.946] V=[   0.000  -37.190] thrust=[   0.000    0.619] fuel= 199.709\n",
      "e=  18.511 Pout=   3.702 power=   3.702\n",
      "i=200 X=[5254.000 2247.411] V=[   0.000  -47.814] thrust=[   0.000    3.702] fuel= 173.223\n",
      "e=  20.915 Pout=   4.183 power=   4.000\n",
      "i=300 X=[5254.000 1778.897] V=[   0.000  -45.500] thrust=[   0.000    4.000] fuel= 133.799\n",
      "e=  22.432 Pout=   4.486 power=   4.000\n",
      "i=400 X=[5254.000 1338.488] V=[   0.000  -42.610] thrust=[   0.000    4.000] fuel=  93.799\n",
      "e=  23.660 Pout=   4.732 power=   4.000\n",
      "i=500 X=[5254.000  926.980] V=[   0.000  -39.720] thrust=[   0.000    4.000] fuel=  53.799\n",
      "e=  24.599 Pout=   4.920 power=   4.000\n",
      "i=600 X=[5254.000  544.372] V=[   0.000  -36.830] thrust=[   0.000    4.000] fuel=  13.799\n",
      "Fuel empty! Setting thrust to zero\n",
      "crash! vertical speed must be limited (<40m/s in absolute value), got  44.72519678386183\n",
      "\n",
      "X0=[5284, 1508] V0=[0.0, 0.0]\n",
      "e= -11.060 Pout=  -2.212 power=   0.000\n",
      "i=000 X=[5284.000 1507.963] V=[   0.000   -0.371] thrust=[   0.000    0.000] fuel= 200.000\n",
      "safe landing - well done!\n",
      "\n",
      "X0=[3845, 2964] V0=[0.0, 0.0]\n",
      "e= -34.110 Pout=  -6.822 power=   0.000\n",
      "i=000 X=[3845.000 2963.963] V=[   0.000   -0.371] thrust=[   0.000    0.000] fuel= 200.000\n",
      "e=   4.371 Pout=   0.874 power=   0.874\n",
      "i=100 X=[3845.000 2773.126] V=[   0.000  -36.893] thrust=[   0.000    0.874] fuel= 199.412\n",
      "e=  18.631 Pout=   3.726 power=   3.726\n",
      "i=200 X=[3845.000 2333.589] V=[   0.000  -46.482] thrust=[   0.000    3.726] fuel= 171.891\n",
      "e=  20.846 Pout=   4.169 power=   4.000\n",
      "i=300 X=[3845.000 1878.813] V=[   0.000  -44.119] thrust=[   0.000    4.000] fuel= 132.418\n",
      "e=  22.225 Pout=   4.445 power=   4.000\n",
      "i=400 X=[3845.000 1452.214] V=[   0.000  -41.229] thrust=[   0.000    4.000] fuel=  92.418\n",
      "e=  23.315 Pout=   4.663 power=   4.000\n",
      "i=500 X=[3845.000 1054.515] V=[   0.000  -38.339] thrust=[   0.000    4.000] fuel=  52.418\n",
      "e=  24.116 Pout=   4.823 power=   4.000\n",
      "i=600 X=[3845.000  685.716] V=[   0.000  -35.449] thrust=[   0.000    4.000] fuel=  12.418\n",
      "Fuel empty! Setting thrust to zero\n",
      "safe landing - well done!\n",
      "\n",
      "X0=[5071, 1975] V0=[0.0, 0.0]\n",
      "e= -18.620 Pout=  -3.724 power=   0.000\n",
      "i=000 X=[5071.000 1974.963] V=[   0.000   -0.371] thrust=[   0.000    0.000] fuel= 200.000\n",
      "e=  12.777 Pout=   2.555 power=   2.555\n",
      "i=100 X=[5071.000 1798.489] V=[   0.000  -29.777] thrust=[   0.000    2.555] fuel= 192.296\n",
      "e=  19.206 Pout=   3.841 power=   3.841\n",
      "i=200 X=[5071.000 1475.219] V=[   0.000  -32.848] thrust=[   0.000    3.841] fuel= 158.257\n",
      "e=  20.003 Pout=   4.001 power=   4.000\n",
      "i=300 X=[5071.000 1157.627] V=[   0.000  -30.450] thrust=[   0.000    4.000] fuel= 118.749\n",
      "safe landing - well done!\n",
      "\n",
      "X0=[3061, 1781] V0=[0.0, 0.0]\n",
      "e= -22.060 Pout=  -4.412 power=   0.000\n",
      "i=000 X=[3061.000 1780.963] V=[   0.000   -0.371] thrust=[   0.000    0.000] fuel= 200.000\n",
      "e=  11.462 Pout=   2.292 power=   2.292\n",
      "i=100 X=[3061.000 1598.638] V=[   0.000  -31.872] thrust=[   0.000    2.292] fuel= 194.391\n",
      "e=  19.157 Pout=   3.831 power=   3.831\n",
      "i=200 X=[3061.000 1247.579] V=[   0.000  -35.907] thrust=[   0.000    3.831] fuel= 161.316\n",
      "e=  20.177 Pout=   4.035 power=   4.000\n",
      "i=300 X=[3061.000  899.733] V=[   0.000  -33.429] thrust=[   0.000    4.000] fuel= 121.728\n",
      "e=  20.487 Pout=   4.097 power=   4.000\n",
      "i=400 X=[3061.000  580.039] V=[   0.000  -30.539] thrust=[   0.000    4.000] fuel=  81.728\n",
      "safe landing - well done!\n",
      "\n",
      "X0=[4629, 2149] V0=[0.0, 0.0]\n",
      "e= -24.300 Pout=  -4.860 power=   0.000\n",
      "i=000 X=[4629.000 2148.963] V=[   0.000   -0.371] thrust=[   0.000    0.000] fuel= 200.000\n",
      "e=  10.462 Pout=   2.092 power=   2.092\n",
      "i=100 X=[4629.000 1963.780] V=[   0.000  -33.105] thrust=[   0.000    2.092] fuel= 195.624\n",
      "e=  19.105 Pout=   3.821 power=   3.821\n",
      "i=200 X=[4629.000 1595.114] V=[   0.000  -37.893] thrust=[   0.000    3.821] fuel= 163.302\n",
      "e=  20.309 Pout=   4.062 power=   4.000\n",
      "i=300 X=[4629.000 1227.450] V=[   0.000  -35.400] thrust=[   0.000    4.000] fuel= 123.699\n",
      "e=  20.816 Pout=   4.163 power=   4.000\n",
      "i=400 X=[4629.000  888.044] V=[   0.000  -32.510] thrust=[   0.000    4.000] fuel=  83.699\n",
      "safe landing - well done!\n",
      "\n",
      "X0=[3911, 2231] V0=[0.0, 0.0]\n",
      "e= -18.130 Pout=  -3.626 power=   0.000\n",
      "i=000 X=[3911.000 2230.963] V=[   0.000   -0.371] thrust=[   0.000    0.000] fuel= 200.000\n",
      "e=  12.944 Pout=   2.589 power=   2.589\n",
      "i=100 X=[3911.000 2055.479] V=[   0.000  -29.460] thrust=[   0.000    2.589] fuel= 191.979\n",
      "e=  19.210 Pout=   3.842 power=   3.842\n",
      "i=200 X=[3911.000 1736.234] V=[   0.000  -32.411] thrust=[   0.000    3.842] fuel= 157.820\n",
      "e=  19.985 Pout=   3.997 power=   3.997\n",
      "i=300 X=[3911.000 1422.930] V=[   0.000  -30.035] thrust=[   0.000    3.997] fuel= 118.334\n",
      "safe landing - well done!\n",
      "\n",
      "X0=[3781, 2845] V0=[0.0, 0.0]\n",
      "e= -31.790 Pout=  -6.358 power=   0.000\n",
      "i=000 X=[3781.000 2844.963] V=[   0.000   -0.371] thrust=[   0.000    0.000] fuel= 200.000\n",
      "e=   6.102 Pout=   1.220 power=   1.220\n",
      "i=100 X=[3781.000 2654.663] V=[   0.000  -36.274] thrust=[   0.000    1.220] fuel= 198.793\n",
      "e=  18.785 Pout=   3.757 power=   3.757\n",
      "i=200 X=[3781.000 2230.791] V=[   0.000  -44.473] thrust=[   0.000    3.757] fuel= 169.882\n",
      "e=  20.733 Pout=   4.147 power=   4.000\n",
      "i=300 X=[3781.000 1796.608] V=[   0.000  -42.052] thrust=[   0.000    4.000] fuel= 130.351\n",
      "e=  21.905 Pout=   4.381 power=   4.000\n",
      "i=400 X=[3781.000 1390.679] V=[   0.000  -39.162] thrust=[   0.000    4.000] fuel=  90.351\n",
      "e=  22.788 Pout=   4.558 power=   4.000\n",
      "i=500 X=[3781.000 1013.650] V=[   0.000  -36.272] thrust=[   0.000    4.000] fuel=  50.351\n",
      "e=  23.383 Pout=   4.677 power=   4.000\n",
      "i=600 X=[3781.000  665.521] V=[   0.000  -33.382] thrust=[   0.000    4.000] fuel=  10.351\n",
      "safe landing - well done!\n",
      "\n",
      "X0=[4503, 2318] V0=[0.0, 0.0]\n",
      "e= -23.390 Pout=  -4.678 power=   0.000\n",
      "i=000 X=[4503.000 2317.963] V=[   0.000   -0.371] thrust=[   0.000    0.000] fuel= 200.000\n",
      "e=  10.883 Pout=   2.177 power=   2.177\n",
      "i=100 X=[4503.000 2133.855] V=[   0.000  -32.618] thrust=[   0.000    2.177] fuel= 195.137\n",
      "e=  19.128 Pout=   3.826 power=   3.826\n",
      "i=200 X=[4503.000 1772.289] V=[   0.000  -37.087] thrust=[   0.000    3.826] fuel= 162.496\n",
      "e=  20.255 Pout=   4.051 power=   4.000\n",
      "i=300 X=[4503.000 1412.685] V=[   0.000  -34.597] thrust=[   0.000    4.000] fuel= 122.896\n",
      "e=  20.682 Pout=   4.136 power=   4.000\n",
      "i=400 X=[4503.000 1081.305] V=[   0.000  -31.707] thrust=[   0.000    4.000] fuel=  82.896\n",
      "safe landing - well done!\n",
      "\n",
      "X0=[3601, 2538] V0=[0.0, 0.0]\n",
      "e= -31.980 Pout=  -6.396 power=   0.000\n",
      "i=000 X=[3601.000 2537.963] V=[   0.000   -0.371] thrust=[   0.000    0.000] fuel= 200.000\n",
      "e=   5.968 Pout=   1.194 power=   1.194\n",
      "i=100 X=[3601.000 2347.605] V=[   0.000  -36.332] thrust=[   0.000    1.194] fuel= 198.851\n",
      "e=  18.773 Pout=   3.755 power=   3.755\n",
      "i=200 X=[3601.000 1922.421] V=[   0.000  -44.638] thrust=[   0.000    3.755] fuel= 170.047\n",
      "e=  20.743 Pout=   4.149 power=   4.000\n",
      "i=300 X=[3601.000 1486.551] V=[   0.000  -42.222] thrust=[   0.000    4.000] fuel= 130.520\n",
      "e=  21.932 Pout=   4.386 power=   4.000\n",
      "i=400 X=[3601.000 1078.929] V=[   0.000  -39.332] thrust=[   0.000    4.000] fuel=  90.520\n",
      "e=  22.832 Pout=   4.566 power=   4.000\n",
      "i=500 X=[3601.000  700.208] V=[   0.000  -36.442] thrust=[   0.000    4.000] fuel=  50.520\n",
      "e=  23.443 Pout=   4.689 power=   4.000\n",
      "i=600 X=[3601.000  350.386] V=[   0.000  -33.552] thrust=[   0.000    4.000] fuel=  10.520\n",
      "safe landing - well done!\n",
      "\n",
      "X0=[5516, 2016] V0=[0.0, 0.0]\n",
      "e= -27.770 Pout=  -5.554 power=   0.000\n",
      "i=000 X=[5516.000 2015.963] V=[   0.000   -0.371] thrust=[   0.000    0.000] fuel= 200.000\n",
      "e=   8.654 Pout=   1.731 power=   1.731\n",
      "i=100 X=[5516.000 1827.650] V=[   0.000  -34.773] thrust=[   0.000    1.731] fuel= 197.292\n",
      "e=  18.987 Pout=   3.797 power=   3.797\n",
      "i=200 X=[5516.000 1432.626] V=[   0.000  -40.956] thrust=[   0.000    3.797] fuel= 166.365\n",
      "e=  20.514 Pout=   4.103 power=   4.000\n",
      "i=300 X=[5516.000 1034.164] V=[   0.000  -38.475] thrust=[   0.000    4.000] fuel= 126.774\n",
      "e=  21.328 Pout=   4.266 power=   4.000\n",
      "i=400 X=[5516.000  664.009] V=[   0.000  -35.585] thrust=[   0.000    4.000] fuel=  86.774\n",
      "e=  21.854 Pout=   4.371 power=   4.000\n",
      "i=500 X=[5516.000  322.755] V=[   0.000  -32.695] thrust=[   0.000    4.000] fuel=  46.774\n",
      "safe landing - well done!\n",
      "\n",
      "count/trials = 0.9\n"
     ]
    }
   ],
   "source": [
    "# Test 3 - random Martian surfaces\n",
    "\n",
    "np.random.seed(123) # seed random number generator for reproducible results\n",
    "\n",
    "trials = 20\n",
    "count = 0\n",
    "for i in range(trials):\n",
    "    land, landing_site = mars_surface()\n",
    "    X0 = [(land[landing_site+1, 0] + land[landing_site, 0]) // 2, randint(1500, 3000)]\n",
    "    V0 = [0., 0.] \n",
    "    print(f'X0={X0} V0={V0}')\n",
    "    Xs, Vs, thrust, success = simulate(X0, V0, land, landing_site, dt=0.1, Nstep=2000, \n",
    "                                       autopilot=proportional_autopilot, fuel=200)\n",
    "    count += success\n",
    "    print()\n",
    "\n",
    "print(f'count/trials = {count/trials}')\n",
    "assert count/trials > 0.8 # require 80% success rate"
   ]
  },
  {
   "cell_type": "markdown",
   "metadata": {},
   "source": [
    "## Bonus Question\n",
    "\n",
    "Extend your autopilot to cope with the more diffcult case where the launcher starts at a random $(x, y)$ position within 1000m either side of the centre of the landing zone."
   ]
  },
  {
   "cell_type": "code",
   "execution_count": null,
   "metadata": {
    "nbgrader": {
     "grade": true,
     "grade_id": "cell-c68fa12cab417537",
     "locked": false,
     "points": 0,
     "schema_version": 3,
     "solution": true
    }
   },
   "outputs": [],
   "source": []
  },
  {
   "cell_type": "markdown",
   "metadata": {},
   "source": [
    "## Further ideas for extensions\n",
    "\n",
    "- Extend to the fully random case where the initial position can be any point $\\mathbf{X}_0 = (x, y)$ with $0 < x < 7000$ m and $1500 < y < 3000$ m. You may have to analyse the terrain to avoid crashing into any mountains!\n",
    "- Add random horizontal wind forces and improve the autopilot to compensate for these - how large can these force be before your autopilot loses control?\n",
    "- Extend the autopilot to cover orbital re-entry with initial velocities $\\mathbf{V}_0 = (v_x, v_y)$ in the range $-500 < v_x < 500$ m/s, $-500 < v_y < 500$ m/s to model orbital re-entryas well as the final descent stage\n",
    "- How might you tune your autopilot to achieve (i) minimal fuel usage, (ii) minimal descent time, (iii) minimal peak acceleration?"
   ]
  },
  {
   "cell_type": "code",
   "execution_count": null,
   "metadata": {},
   "outputs": [],
   "source": []
  }
 ],
 "metadata": {
  "celltoolbar": "Create Assignment",
  "kernelspec": {
   "display_name": "Python 3 (ipykernel)",
   "language": "python",
   "name": "python3"
  },
  "language_info": {
   "codemirror_mode": {
    "name": "ipython",
    "version": 3
   },
   "file_extension": ".py",
   "mimetype": "text/x-python",
   "name": "python",
   "nbconvert_exporter": "python",
   "pygments_lexer": "ipython3",
   "version": "3.9.7"
  }
 },
 "nbformat": 4,
 "nbformat_minor": 4
}
