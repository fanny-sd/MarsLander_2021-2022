{
 "cells": [
  {
   "cell_type": "markdown",
   "id": "812ed5d2-d80a-4a44-95a3-110312b57766",
   "metadata": {},
   "source": [
    "# V5: Drag in Horz direction + height by X[1] change + fuel + PID + 2D + Drag"
   ]
  },
  {
   "cell_type": "markdown",
   "id": "fcb4733f-6668-4172-9761-c362462c2486",
   "metadata": {},
   "source": [
    "### Test & Plot - decreasing speed and fuel\n",
    "- changes: fuel history added to plot it"
   ]
  },
  {
   "cell_type": "code",
   "execution_count": 1,
   "id": "0da96aa3-d660-48ca-a977-79d50f93ae5a",
   "metadata": {},
   "outputs": [],
   "source": [
    "import matplotlib.pyplot as plt\n",
    "import numpy as np\n",
    "from ipywidgets import interactive  # slider\n",
    "from matplotlib import rcParams \n",
    "from numpy.linalg import norm\n",
    "from numpy.random import randint\n",
    "from mpl_toolkits import mplot3d #added for 3D plotting\n",
    "from scipy.optimize import minimize   # for minimising landing speed\n",
    "from ipywidgets import interactive \n",
    "from matplotlib import rcParams  \n",
    "\n",
    "rcParams['figure.figsize'] = (10, 8)"
   ]
  },
  {
   "cell_type": "code",
   "execution_count": 2,
   "id": "b657d326-bb44-4d1c-a194-72afaa4c72ed",
   "metadata": {},
   "outputs": [],
   "source": [
    "def mars_surface():\n",
    "    surfaceN = randint(5, 15)\n",
    "    land = np.zeros((surfaceN, 2), dtype=int)\n",
    "    \n",
    "    # first ensure there's a flat landing site at least 1000m long\n",
    "    landing_site = randint(1, surfaceN-1)\n",
    "    land[landing_site, 0] = randint(2000, 5000)\n",
    "    land[landing_site+1, 0] = min(land[landing_site, 0] + randint(1000, 2000), 6999)\n",
    "    land[landing_site+1, 1] = land[landing_site, 1] = randint(1, 1500)\n",
    "    \n",
    "    # fill in the rest of the terrain\n",
    "    for i in range(landing_site):\n",
    "        land[i, 0] = (land[landing_site, 0] / landing_site) * i\n",
    "        land[i, 1] = randint(0, 1500)\n",
    "    \n",
    "    for i in range(landing_site + 2, surfaceN):\n",
    "        land[i, 0] = (land[landing_site + 1, 0] + \n",
    "                      (7000 - land[landing_site + 1, 0]) / len(land[landing_site + 2:]) * \n",
    "                      (i - (landing_site + 1)))\n",
    "        land[i, 1] = randint(0, 1500)\n",
    "    \n",
    "    # impose boundary conditions\n",
    "    land[0, 0] = 0\n",
    "    land[-1, 0] = 6999\n",
    "\n",
    "    return land, landing_site\n",
    "\n",
    "def plot_surface(land, landing_site):\n",
    "    fig, ax = plt.subplots()\n",
    "    ax.plot(land[:landing_site+1, 0], land[:landing_site+1, 1], 'k-')\n",
    "    ax.plot(land[landing_site+1:, 0], land[landing_site+1:, 1], 'k-')\n",
    "    ax.plot([land[landing_site, 0], land[landing_site+1, 0]], \n",
    "             [land[landing_site, 1], land[landing_site+1, 1]], 'k--')\n",
    "    ax.set_xlim(0, 7000)\n",
    "    ax.set_ylim(0, 16000) \n",
    "    return ax\n",
    "\n",
    "def plot_lander(land, landing_site, X, thrust=None, animate=False, step=10):\n",
    "    if animate:\n",
    "        def plot_frame(n=len(X)-1):\n",
    "            ax = plot_surface(land, landing_site)\n",
    "            ax.plot(X[:n, 0], X[:n, 1], 'b--')      # trajectory of lander\n",
    "            ax.plot(X[n, 0], X[n, 1], 'k^', ms=20) # lander (color was b)\n",
    "            if thrust is not None:\n",
    "                ax.plot([X[n, 0], X[n, 0] - 100*thrust[n, 0]],\n",
    "                        [X[n, 1] - 100., X[n, 1] - 100. - 100*thrust[n, 1]], \n",
    "                       'r-', lw=10)\n",
    "        return interactive(plot_frame, n=(0, len(X), step)) #slider\n",
    "    else:\n",
    "        ax = plot_surface(land, landing_site) \n",
    "        ax.plot(X[:, 0], X[:, 1], 'b--')\n",
    "        ax.plot(X[-1, 0], X[-1, 1], 'b^')\n",
    "        return ax\n",
    "\n",
    "def interpolate_surface(land, x):\n",
    "    i,  = np.argwhere(land[:, 0] < x)[-1] # segment containing x is [i, i+1]\n",
    "    m = (land[i+1, 1] - land[i, 1])/(land[i+1, 0] - land[i, 0]) # gradient\n",
    "    x1, y1 = land[i, :] # point on line with eqn. y - y1 = m(x - x1) \n",
    "    return m*(x - x1) + y1\n",
    "\n",
    "land, landing_site = mars_surface()\n",
    "\n",
    "def height(land, X):\n",
    "    return X[1] - interpolate_surface(land, X[0]) #1 in X[1] points to the vertical position y of the lander\n",
    "\n",
    "assert abs(height(land, [1, land[0, 1]])) < 100.0 # height when on surface left edge should be close to zero\n",
    "assert abs(height(land, [6999, land[-1, 1]])) < 100.0 # height when on surface at right edge should be close to zero\n",
    "\n",
    "_land, _landing_site = mars_surface()\n",
    "\n",
    "def _height(_land, X):\n",
    "    return X[1] - interpolate_surface(_land, X[0])\n",
    "\n",
    "points = np.zeros((10, 2))\n",
    "points[:, 0] = randint(0, 7000, size=10)\n",
    "points[:, 1] = randint(0, 16000, size=10)\n",
    "for i in range(10):\n",
    "    assert abs(height(_land, points[i, :]) - _height(_land, points[i, :])) < 1e-6"
   ]
  },
  {
   "cell_type": "code",
   "execution_count": 3,
   "id": "a2f571de-81c5-493e-b965-46da69695658",
   "metadata": {},
   "outputs": [],
   "source": [
    "g = 3.711 # m/s^2 , gravity on Mars\n",
    "TSFC = 0.0003 # kg/(N*s)\n",
    "# fuel = 400 kg\n",
    "Dc = 6.3525 # drag force as a function of velocity\n",
    "\n",
    "def simulate(X0, V0, land, landing_site, \n",
    "             fuel=400, dt=0.1, Nstep=1000, \n",
    "             autopilot=None, print_interval=100, parameters=None, parachute=None):\n",
    "    \n",
    "    n = len(X0)       # number of degrees of freedom (2 here)\n",
    "    X = X0.copy()     # current position\n",
    "    V = np.array(V0).astype(float)  #was X0.copy()     # current velocity\n",
    "    Xs = np.zeros((Nstep, n)) # position history (trajectory) \n",
    "    Vs = np.zeros((Nstep, n)) # velocity history\n",
    "    Fs = np.zeros((Nstep, n)) # fuel history                \n",
    "    thrust = np.zeros((Nstep, n)) # thrust history\n",
    "    drag = np.zeros((Nstep, n)) # drag history\n",
    "    success = False\n",
    "    fuel_warning_printed = False\n",
    "    rotate = randint(-90, 90)            # degrees, initial angle random (heading alignment phase)\n",
    "    power = 0            # m/s^2, initial thrust power  \n",
    "    \n",
    "    e_prev = np.zeros(Nstep) # error history   \n",
    "\n",
    "    for i in range(Nstep):\n",
    "        Xs[i, :] = X     # Store positions\n",
    "        Vs[i, :] = V     # Store velocities\n",
    "        Fs[i, :] = fuel  # Store fuel values          \n",
    "        \n",
    "        if autopilot is not None:\n",
    "            \n",
    "            rotate, power, parachute = autopilot(i, X, V, fuel, rotate, power, parameters, parachute,dt,e_prev,Nstep)\n",
    "            assert abs(rotate) <= 90\n",
    "            assert 0 <= power <= 12000\n",
    "        \n",
    "            rotate_rad = rotate * np.pi / 180.0 # degrees to radians\n",
    "            thrust[i, :] = power * np.array([np.sin(rotate_rad), \n",
    "                                             np.cos(rotate_rad)])\n",
    "            if fuel <= 0: \n",
    "                if not fuel_warning_printed:\n",
    "                    print(\"Fuel empty! Setting thrust to zero\")\n",
    "                    fuel_warning_printed = True\n",
    "                thrust[i, :] = 0\n",
    "            else:\n",
    "                fuel -= TSFC * power * dt\n",
    "                \n",
    "        m = 2600 + fuel  #kg , Mass of Lander + Rover + fuel  # fuel Mass loss\n",
    "        \n",
    "        if parachute == 0:\n",
    "            # no Drag                                               \n",
    "            drag[i, :] = 0                \n",
    "        else: # parachute == 1\n",
    "            # Drag - Parachute deployed  \n",
    "            drag[i, :] = -Dc*np.linalg.norm(V)*V                             \n",
    "            # linalg.norm(x) => Matrix or vector norm\n",
    "        \n",
    "        A = np.array([0, -g]) + thrust[i, :]/m + drag[i, :]/m\n",
    "                                   \n",
    "        V += A * dt                          # update velocities\n",
    "        X += V * dt                          # update positions\n",
    "        \n",
    "        #if i % print_interval == 0: \n",
    "            #print(f\"i={i:03d} X=[{X[0]:8.3f} {X[1]:8.3f}] V=[{V[0]:8.3f} {V[1]:8.3f}]\"\n",
    "                  #f\" thrust=[{thrust[i, 0]:8.3f} {thrust[i, 1]:8.3f}] fuel={fuel:8.3f} rotate={rotate:8.3f} parachute={parachute:8.3f}\") \n",
    "        \n",
    "        # check for safe or crash landing\n",
    "        if X[1] < interpolate_surface(land, X[0]):\n",
    "            if not (land[landing_site, 0] <= X[0] and X[0] <= land[landing_site + 1, 0]):\n",
    "                print(\"crash! did not land on flat ground!\")\n",
    "            elif rotate != 0:\n",
    "                print(\"crash! did not land in a vertical position (tilt angle = 0 degrees)\")\n",
    "            elif abs(V[1]) >= 27: #was 40\n",
    "                print(\"crash! vertical speed must be limited (<27m/s in absolute value), got \", abs(V[1]))\n",
    "            elif abs(V[0]) >= 5: #was 20\n",
    "                print(\"crash! horizontal speed must be limited (<5m/s in absolute value), got \", abs(V[0]))\n",
    "            else:\n",
    "                print(\"safe landing - well done!\")\n",
    "                success = True\n",
    "            Nstep = i\n",
    "            break\n",
    "    \n",
    "    return Xs[:Nstep,:], Vs[:Nstep,:], thrust[:Nstep,:], success, Fs, fuel, rotate, parachute   # Fs instead of fuel_warning_printed !"
   ]
  },
  {
   "cell_type": "code",
   "execution_count": 4,
   "id": "0b4242af-df0a-44f8-8078-b8c7e78747d2",
   "metadata": {},
   "outputs": [],
   "source": [
    "def proportional_autopilot(i, X, V, fuel, rotate, power,parameters, parachute, dt, e_prev, Nstep):\n",
    "    K_v,K_p,K_h,K_i,K_d = parameters\n",
    "    \n",
    "    c_v = 10.0 # target landing speed, m/s #c vertical\n",
    "    c_h = 0 #c horizontal and vertical #trade-off for rotation to go back to 0\n",
    "    \n",
    "    # Height from landing platform \n",
    "    h = X[1]-land[landing_site, 1];\n",
    "    \n",
    "    # Horizontal displacement\n",
    "    Xtarget = (land[landing_site+1, 0] + land[landing_site, 0]) // 2 \n",
    "    dist = (Xtarget-X[0])  #X[i,0], pass the history of X (same for V)\n",
    "\n",
    "    rotate = np.rad2deg(np.arctan2(dist,h-2000))   \n",
    "    \n",
    "    # rough method to avoid 'did not land in a vertical position' error:\n",
    "    if h<2000:\n",
    "        rotate = 0\n",
    "      \n",
    "    # Combine vertical & horizontal errors\n",
    "    v_target_vert = -(c_v + K_v*(h-2000));\n",
    "    v_target_horz = abs(c_h+K_h*dist)\n",
    "    v_err_vert = abs(v_target_vert - V[1])\n",
    "    v_err_horz = abs(v_target_horz - V[0])\n",
    "    e =  v_err_vert + v_err_horz;\n",
    "    \n",
    "    e_d = 0\n",
    "    if i>0:\n",
    "        e_d = K_d*((e - e_prev[i-1])/dt)\n",
    "        \n",
    "    e_prev[i] = e     # Store error\n",
    "    \n",
    "    Pout = K_p*(e + e_d + K_i*(e_prev.sum()*dt)) \n",
    "    \n",
    "    power = min(max(Pout, 0.0), 12000.0)   # max thrust\n",
    "    \n",
    "    if h > 10000:\n",
    "        parachute = 0 \n",
    "    else:\n",
    "        parachute = 1 #open parachute\n",
    "    \n",
    "    \n",
    "    if i % 100 == 0:\n",
    "        print(f'e={e:8.3f} Pout={Pout:8.3f} power={power:8.3f} K_p={K_p:8.3f} K_h={K_h:8.3f} K_v={K_v:8.3f} K_i={K_i:8.3f} K_d={K_d:8.3f}')     \n",
    "    return (rotate, power, parachute)"
   ]
  },
  {
   "cell_type": "markdown",
   "id": "8b764da5-9a57-4fa8-be77-33dceda01339",
   "metadata": {},
   "source": [
    "# Testing\n",
    " - For speed values - Vs provides the history\n",
    " - For fuel values - need to create the same history variable as for V"
   ]
  },
  {
   "cell_type": "code",
   "execution_count": 24,
   "id": "a68d8c7d-5e75-42c6-9d62-14574bab3464",
   "metadata": {},
   "outputs": [
    {
     "name": "stdout",
     "output_type": "stream",
     "text": [
      "safe landing - well done!\n"
     ]
    },
    {
     "data": {
      "application/vnd.jupyter.widget-view+json": {
       "model_id": "980c353816df44c0bf49036fa3cc9546",
       "version_major": 2,
       "version_minor": 0
      },
      "text/plain": [
       "interactive(children=(IntSlider(value=2830, description='n', max=2831, step=10), Output()), _dom_classes=('wid…"
      ]
     },
     "metadata": {},
     "output_type": "display_data"
    }
   ],
   "source": [
    "np.random.seed(122) # seed random number generator for reproducible results \n",
    "\n",
    "land, landing_site = mars_surface()\n",
    "\n",
    "# PID graph:\n",
    "K_p= 50.000 ; K_h= 0.005 ; K_v= 0.005 ; K_i= 0.005 ; K_d= 75.000\n",
    "\n",
    "# P graph:\n",
    "#K_p= 210; K_h= 0.002; K_v= 0.006; K_i= 0.000 ; K_d= 0\n",
    "\n",
    "iterations = 1\n",
    "fuel_results = np.zeros((3500))\n",
    "\n",
    "for i in list(range(iterations)):\n",
    "    X0 = [randint(2000, 5000), randint(15000, 16000)] \n",
    "    V0 = [randint(-50,50), randint(-500,-300)]  \n",
    "    try:\n",
    "        Xs, Vs, thrust, success, Fs, fuel, rotate, parachute = simulate(X0, V0, land, landing_site, dt=0.1, Nstep=3500, \n",
    "                                        autopilot=proportional_autopilot, fuel=400,parameters=[K_v,K_p,K_h,K_i,K_d],parachute=None)\n",
    "    except IndexError:\n",
    "        print('Error: Out of bounds')\n",
    "        OutofBounds += 1\n",
    "        continue\n",
    "    \n",
    "#print(Vs) #speed resutls\n",
    "#print(Fs)\n",
    "\n",
    "plot_lander(land, landing_site, Xs, thrust, animate=True, step=10)"
   ]
  },
  {
   "cell_type": "markdown",
   "id": "31c0f5f2-2be5-4b79-918c-401be11e1c83",
   "metadata": {},
   "source": [
    "### PLOTTING - Reducing fuel and speed"
   ]
  },
  {
   "cell_type": "markdown",
   "id": "efd148db-3fe0-4843-8e2b-c91539989750",
   "metadata": {},
   "source": [
    "Problem: The last rows are filled with zeros because the simulation ends before step 3500, I could find a clever way around it but I can't be bothered, so I'll just print results and see at what i does the simulation end"
   ]
  },
  {
   "cell_type": "code",
   "execution_count": 25,
   "id": "b9c54b39-9152-41e6-a089-73814b2c8bd0",
   "metadata": {},
   "outputs": [
    {
     "data": {
      "text/plain": [
       "Text(0, 0.5, 'Remaining fuel (litres)')"
      ]
     },
     "execution_count": 25,
     "metadata": {},
     "output_type": "execute_result"
    },
    {
     "data": {
      "image/png": "[encoded data removed]",
      "text/plain": [
       "<Figure size 720x576 with 1 Axes>"
      ]
     },
     "metadata": {
      "needs_background": "light"
     },
     "output_type": "display_data"
    }
   ],
   "source": [
    "# Fuel plot\n",
    "\n",
    "plt.plot(Fs[0:2800]) # change number according to previous simulation run\n",
    "plt.axhline(0,color='r', linestyle='dashed', linewidth=1)\n",
    "plt.xlabel(\"Time (ds)\", size=14)\n",
    "plt.ylabel(\"Remaining fuel (litres)\", size=14)"
   ]
  },
  {
   "cell_type": "code",
   "execution_count": 26,
   "id": "c60b85e2-1a09-4438-a4c8-e62a6d07247d",
   "metadata": {},
   "outputs": [
    {
     "data": {
      "text/plain": [
       "Text(0, 0.5, 'Horizontal Speed (m/s)')"
      ]
     },
     "execution_count": 26,
     "metadata": {},
     "output_type": "execute_result"
    },
    {
     "data": {
      "image/png": "[encoded data removed]",
      "text/plain": [
       "<Figure size 720x576 with 1 Axes>"
      ]
     },
     "metadata": {
      "needs_background": "light"
     },
     "output_type": "display_data"
    }
   ],
   "source": [
    "# Horizontal Speed plot\n",
    "\n",
    "plt.plot(abs(Vs[0:2800,0])) # change number according to previous simulation run\n",
    "plt.axhline(5,color='r', linestyle='dashed', linewidth=1)\n",
    "plt.xlabel(\"Time (ds)\", size=14)\n",
    "plt.ylabel(\"Horizontal Speed (m/s)\", size=14)"
   ]
  },
  {
   "cell_type": "code",
   "execution_count": 27,
   "id": "51ed17ef-9de4-46c3-a7b7-da0b0e1770c7",
   "metadata": {},
   "outputs": [
    {
     "data": {
      "text/plain": [
       "Text(0, 0.5, 'Vertical Speed (m/s)')"
      ]
     },
     "execution_count": 27,
     "metadata": {},
     "output_type": "execute_result"
    },
    {
     "data": {
      "image/png": "[encoded data removed]",
      "text/plain": [
       "<Figure size 720x576 with 1 Axes>"
      ]
     },
     "metadata": {
      "needs_background": "light"
     },
     "output_type": "display_data"
    }
   ],
   "source": [
    "# Vertical Speed plot\n",
    "\n",
    "plt.plot(abs(Vs[0:2800,1])) # change number according to previous simulation run\n",
    "plt.axhline(27,color='r', linestyle='dashed', linewidth=1)\n",
    "plt.xlabel(\"Time (ds)\", size=14)\n",
    "plt.ylabel(\"Vertical Speed (m/s)\", size=14)\n",
    "#plt.title(\"...\")\n",
    "\n",
    "# comment for discussion: huge descent due to openning of the parachute"
   ]
  }
 ],
 "metadata": {
  "kernelspec": {
   "display_name": "Python 3 (ipykernel)",
   "language": "python",
   "name": "python3"
  },
  "language_info": {
   "codemirror_mode": {
    "name": "ipython",
    "version": 3
   },
   "file_extension": ".py",
   "mimetype": "text/x-python",
   "name": "python",
   "nbconvert_exporter": "python",
   "pygments_lexer": "ipython3",
   "version": "3.9.7"
  }
 },
 "nbformat": 4,
 "nbformat_minor": 5
}
